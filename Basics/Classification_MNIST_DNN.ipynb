{
  "nbformat": 4,
  "nbformat_minor": 0,
  "metadata": {
    "colab": {
      "name": "Classification_MNIST_DNN.ipynb",
      "provenance": []
    },
    "kernelspec": {
      "name": "python3",
      "display_name": "Python 3"
    }
  },
  "cells": [
    {
      "cell_type": "code",
      "metadata": {
        "id": "R7XqfS4c26zy",
        "colab_type": "code",
        "outputId": "724360bb-1316-435e-dcae-eff0ef76ed59",
        "colab": {
          "base_uri": "https://localhost:8080/",
          "height": 68
        }
      },
      "source": [
        "!pip3 install -U tensorflow==2.0.0 --quiet"
      ],
      "execution_count": 0,
      "outputs": [
        {
          "output_type": "stream",
          "text": [
            "\u001b[K     |████████████████████████████████| 86.3MB 70kB/s \n",
            "\u001b[K     |████████████████████████████████| 450kB 52.2MB/s \n",
            "\u001b[K     |████████████████████████████████| 3.8MB 51.7MB/s \n",
            "\u001b[?25h"
          ],
          "name": "stdout"
        }
      ]
    },
    {
      "cell_type": "markdown",
      "metadata": {
        "id": "yPTvP3qk3SuB",
        "colab_type": "text"
      },
      "source": [
        "Load TensorFlow"
      ]
    },
    {
      "cell_type": "code",
      "metadata": {
        "id": "Z6B0REi73VT8",
        "colab_type": "code",
        "colab": {}
      },
      "source": [
        "import tensorflow as tf\n",
        "tf.random.set_seed(55)"
      ],
      "execution_count": 0,
      "outputs": []
    },
    {
      "cell_type": "code",
      "metadata": {
        "id": "P-YmMc6-33b8",
        "colab_type": "code",
        "colab": {}
      },
      "source": [
        ""
      ],
      "execution_count": 0,
      "outputs": []
    },
    {
      "cell_type": "markdown",
      "metadata": {
        "id": "E_fGCj0J4cqN",
        "colab_type": "text"
      },
      "source": [
        "Collect Data"
      ]
    },
    {
      "cell_type": "code",
      "metadata": {
        "id": "PRSJPmzT4e1x",
        "colab_type": "code",
        "outputId": "4f093013-f474-4489-9b22-17d34371c19f",
        "colab": {
          "base_uri": "https://localhost:8080/",
          "height": 51
        }
      },
      "source": [
        "(trainX, trainY),(testX,testY) = tf.keras.datasets.mnist.load_data()"
      ],
      "execution_count": 0,
      "outputs": [
        {
          "output_type": "stream",
          "text": [
            "Downloading data from https://storage.googleapis.com/tensorflow/tf-keras-datasets/mnist.npz\n",
            "11493376/11490434 [==============================] - 0s 0us/step\n"
          ],
          "name": "stdout"
        }
      ]
    },
    {
      "cell_type": "code",
      "metadata": {
        "id": "r75JtxR-4-di",
        "colab_type": "code",
        "outputId": "11537abd-f279-4100-98f5-f282ac4fa834",
        "colab": {
          "base_uri": "https://localhost:8080/",
          "height": 34
        }
      },
      "source": [
        "trainX.shape"
      ],
      "execution_count": 0,
      "outputs": [
        {
          "output_type": "execute_result",
          "data": {
            "text/plain": [
              "(60000, 28, 28)"
            ]
          },
          "metadata": {
            "tags": []
          },
          "execution_count": 4
        }
      ]
    },
    {
      "cell_type": "code",
      "metadata": {
        "id": "Yp-763-g5EbJ",
        "colab_type": "code",
        "outputId": "18e90c0a-26a8-46b2-f1dd-78132ad19e70",
        "colab": {
          "base_uri": "https://localhost:8080/",
          "height": 34
        }
      },
      "source": [
        "testX.shape"
      ],
      "execution_count": 0,
      "outputs": [
        {
          "output_type": "execute_result",
          "data": {
            "text/plain": [
              "(10000, 28, 28)"
            ]
          },
          "metadata": {
            "tags": []
          },
          "execution_count": 5
        }
      ]
    },
    {
      "cell_type": "code",
      "metadata": {
        "id": "uUs0521x5Gzp",
        "colab_type": "code",
        "outputId": "fb67f39e-c55c-439a-be76-2a3a33b0fe65",
        "colab": {
          "base_uri": "https://localhost:8080/",
          "height": 34
        }
      },
      "source": [
        "testY[0]"
      ],
      "execution_count": 0,
      "outputs": [
        {
          "output_type": "execute_result",
          "data": {
            "text/plain": [
              "7"
            ]
          },
          "metadata": {
            "tags": []
          },
          "execution_count": 6
        }
      ]
    },
    {
      "cell_type": "code",
      "metadata": {
        "id": "cBg5CJ915IfR",
        "colab_type": "code",
        "colab": {}
      },
      "source": [
        ""
      ],
      "execution_count": 0,
      "outputs": []
    },
    {
      "cell_type": "markdown",
      "metadata": {
        "id": "tsThMR065e1v",
        "colab_type": "text"
      },
      "source": [
        "Convert Output labels to multiple values - Convert labels to one hot encoding"
      ]
    },
    {
      "cell_type": "code",
      "metadata": {
        "id": "_Urg2rwO5icQ",
        "colab_type": "code",
        "colab": {}
      },
      "source": [
        "trainY=tf.keras.utils.to_categorical(trainY, num_classes=10)\n",
        "testY=tf.keras.utils.to_categorical(testY, num_classes=10)"
      ],
      "execution_count": 0,
      "outputs": []
    },
    {
      "cell_type": "code",
      "metadata": {
        "id": "o2y8ZQLZ57Ue",
        "colab_type": "code",
        "outputId": "b28597c8-c8c8-4bec-ed3b-06314db5243e",
        "colab": {
          "base_uri": "https://localhost:8080/",
          "height": 34
        }
      },
      "source": [
        "testY[0]"
      ],
      "execution_count": 0,
      "outputs": [
        {
          "output_type": "execute_result",
          "data": {
            "text/plain": [
              "array([0., 0., 0., 0., 0., 0., 0., 1., 0., 0.], dtype=float32)"
            ]
          },
          "metadata": {
            "tags": []
          },
          "execution_count": 8
        }
      ]
    },
    {
      "cell_type": "code",
      "metadata": {
        "id": "aSNwgnRD59nh",
        "colab_type": "code",
        "colab": {}
      },
      "source": [
        ""
      ],
      "execution_count": 0,
      "outputs": []
    },
    {
      "cell_type": "markdown",
      "metadata": {
        "id": "6FWIgO7Y5_-k",
        "colab_type": "text"
      },
      "source": [
        "Build the Graph"
      ]
    },
    {
      "cell_type": "code",
      "metadata": {
        "id": "qgxMzhqY6EpZ",
        "colab_type": "code",
        "colab": {}
      },
      "source": [
        "#Initialize Sequential Model\n",
        "model = tf.keras.models.Sequential()\n",
        "\n",
        "#Reshape data from 2D to 1D - > 28x28 to 784\n",
        "model.add(tf.keras.layers.Reshape((784,), input_shape=(28,28,)))\n",
        "\n",
        "#Normalize the data\n",
        "model.add(tf.keras.layers.BatchNormalization())"
      ],
      "execution_count": 0,
      "outputs": []
    },
    {
      "cell_type": "code",
      "metadata": {
        "id": "XroTWBLo7BYA",
        "colab_type": "code",
        "colab": {}
      },
      "source": [
        "#Add 1st Hidden layer\n",
        "model.add(tf.keras.layers.Dense(200, activation ='sigmoid'))\n",
        "\n",
        "#Add 2nd Hidden layer\n",
        "model.add(tf.keras.layers.Dense(100, activation ='sigmoid'))\n",
        "\n",
        "#Add 3rd Hidden layer\n",
        "model.add(tf.keras.layers.Dense(60, activation ='sigmoid'))\n",
        "\n",
        "#Add 4th Hidden layer\n",
        "model.add(tf.keras.layers.Dense(30, activation ='sigmoid'))\n",
        "\n",
        "#Add output layer\n",
        "model.add(tf.keras.layers.Dense(10,activation = 'softmax'))"
      ],
      "execution_count": 0,
      "outputs": []
    },
    {
      "cell_type": "code",
      "metadata": {
        "id": "4-L3GLGS7viv",
        "colab_type": "code",
        "colab": {}
      },
      "source": [
        ""
      ],
      "execution_count": 0,
      "outputs": []
    },
    {
      "cell_type": "markdown",
      "metadata": {
        "id": "6E_pBJSY76VG",
        "colab_type": "text"
      },
      "source": [
        "Build the Graph"
      ]
    },
    {
      "cell_type": "code",
      "metadata": {
        "id": "DLAcTEw7779A",
        "colab_type": "code",
        "colab": {}
      },
      "source": [
        "#Compile the model\n",
        "model.compile(optimizer='sgd', loss='categorical_crossentropy', metrics=['accuracy'] )"
      ],
      "execution_count": 0,
      "outputs": []
    },
    {
      "cell_type": "code",
      "metadata": {
        "id": "Fb6PrDIR8KI_",
        "colab_type": "code",
        "colab": {}
      },
      "source": [
        ""
      ],
      "execution_count": 0,
      "outputs": []
    },
    {
      "cell_type": "markdown",
      "metadata": {
        "id": "b4edgkuI8L03",
        "colab_type": "text"
      },
      "source": [
        "Review Model"
      ]
    },
    {
      "cell_type": "code",
      "metadata": {
        "id": "tdBcQ00i8NaI",
        "colab_type": "code",
        "outputId": "4effa80d-cae0-4d5f-ad8c-c92d1389ea2e",
        "colab": {
          "base_uri": "https://localhost:8080/",
          "height": 391
        }
      },
      "source": [
        "model.summary()"
      ],
      "execution_count": 0,
      "outputs": [
        {
          "output_type": "stream",
          "text": [
            "Model: \"sequential\"\n",
            "_________________________________________________________________\n",
            "Layer (type)                 Output Shape              Param #   \n",
            "=================================================================\n",
            "reshape (Reshape)            (None, 784)               0         \n",
            "_________________________________________________________________\n",
            "batch_normalization (BatchNo (None, 784)               3136      \n",
            "_________________________________________________________________\n",
            "dense (Dense)                (None, 200)               157000    \n",
            "_________________________________________________________________\n",
            "dense_1 (Dense)              (None, 100)               20100     \n",
            "_________________________________________________________________\n",
            "dense_2 (Dense)              (None, 60)                6060      \n",
            "_________________________________________________________________\n",
            "dense_3 (Dense)              (None, 30)                1830      \n",
            "_________________________________________________________________\n",
            "dense_4 (Dense)              (None, 10)                310       \n",
            "=================================================================\n",
            "Total params: 188,436\n",
            "Trainable params: 186,868\n",
            "Non-trainable params: 1,568\n",
            "_________________________________________________________________\n"
          ],
          "name": "stdout"
        }
      ]
    },
    {
      "cell_type": "code",
      "metadata": {
        "id": "fKoGrqd_8RTI",
        "colab_type": "code",
        "colab": {}
      },
      "source": [
        ""
      ],
      "execution_count": 0,
      "outputs": []
    },
    {
      "cell_type": "markdown",
      "metadata": {
        "id": "yrw6LIRe9cTU",
        "colab_type": "text"
      },
      "source": [
        "Train the model"
      ]
    },
    {
      "cell_type": "code",
      "metadata": {
        "id": "d-SlEPc99eGC",
        "colab_type": "code",
        "outputId": "31eed0d1-a58e-46c3-ddb8-a7f4efff0692",
        "colab": {
          "base_uri": "https://localhost:8080/",
          "height": 1000
        }
      },
      "source": [
        "model.fit(trainX,trainY,\n",
        "          validation_data=(testX,testY),\n",
        "          epochs=100,\n",
        "          batch_size=32)"
      ],
      "execution_count": 0,
      "outputs": [
        {
          "output_type": "stream",
          "text": [
            "Train on 60000 samples, validate on 10000 samples\n",
            "Epoch 1/100\n",
            "60000/60000 [==============================] - 9s 155us/sample - loss: 2.3060 - accuracy: 0.1129 - val_loss: 2.2978 - val_accuracy: 0.1135\n",
            "Epoch 2/100\n",
            "60000/60000 [==============================] - 9s 142us/sample - loss: 2.2957 - accuracy: 0.1174 - val_loss: 2.2928 - val_accuracy: 0.1135\n",
            "Epoch 3/100\n",
            "60000/60000 [==============================] - 9s 143us/sample - loss: 2.2898 - accuracy: 0.1269 - val_loss: 2.2851 - val_accuracy: 0.2474\n",
            "Epoch 4/100\n",
            "60000/60000 [==============================] - 8s 140us/sample - loss: 2.2797 - accuracy: 0.1501 - val_loss: 2.2705 - val_accuracy: 0.1744\n",
            "Epoch 5/100\n",
            "60000/60000 [==============================] - 9s 147us/sample - loss: 2.2560 - accuracy: 0.2401 - val_loss: 2.2303 - val_accuracy: 0.3367\n",
            "Epoch 6/100\n",
            "60000/60000 [==============================] - 9s 144us/sample - loss: 2.1689 - accuracy: 0.3621 - val_loss: 2.0498 - val_accuracy: 0.3914\n",
            "Epoch 7/100\n",
            "60000/60000 [==============================] - 9s 145us/sample - loss: 1.8277 - accuracy: 0.4083 - val_loss: 1.5803 - val_accuracy: 0.4373\n",
            "Epoch 8/100\n",
            "60000/60000 [==============================] - 9s 142us/sample - loss: 1.4718 - accuracy: 0.4609 - val_loss: 1.3459 - val_accuracy: 0.4869\n",
            "Epoch 9/100\n",
            "60000/60000 [==============================] - 9s 144us/sample - loss: 1.3158 - accuracy: 0.5236 - val_loss: 1.2229 - val_accuracy: 0.5843\n",
            "Epoch 10/100\n",
            "60000/60000 [==============================] - 9s 145us/sample - loss: 1.2094 - accuracy: 0.5870 - val_loss: 1.1121 - val_accuracy: 0.6413\n",
            "Epoch 11/100\n",
            "60000/60000 [==============================] - 8s 140us/sample - loss: 1.0940 - accuracy: 0.6536 - val_loss: 0.9841 - val_accuracy: 0.7154\n",
            "Epoch 12/100\n",
            "60000/60000 [==============================] - 8s 140us/sample - loss: 0.9653 - accuracy: 0.7093 - val_loss: 0.8470 - val_accuracy: 0.7649\n",
            "Epoch 13/100\n",
            "60000/60000 [==============================] - 8s 138us/sample - loss: 0.8341 - accuracy: 0.7580 - val_loss: 0.7302 - val_accuracy: 0.8008\n",
            "Epoch 14/100\n",
            "60000/60000 [==============================] - 8s 139us/sample - loss: 0.7345 - accuracy: 0.7895 - val_loss: 0.6429 - val_accuracy: 0.8325\n",
            "Epoch 15/100\n",
            "60000/60000 [==============================] - 9s 142us/sample - loss: 0.6551 - accuracy: 0.8160 - val_loss: 0.5701 - val_accuracy: 0.8536\n",
            "Epoch 16/100\n",
            "60000/60000 [==============================] - 8s 140us/sample - loss: 0.5874 - accuracy: 0.8398 - val_loss: 0.5068 - val_accuracy: 0.8735\n",
            "Epoch 17/100\n",
            "60000/60000 [==============================] - 9s 145us/sample - loss: 0.5288 - accuracy: 0.8562 - val_loss: 0.4558 - val_accuracy: 0.8830\n",
            "Epoch 18/100\n",
            "60000/60000 [==============================] - 9s 142us/sample - loss: 0.4850 - accuracy: 0.8670 - val_loss: 0.4195 - val_accuracy: 0.8927\n",
            "Epoch 19/100\n",
            "60000/60000 [==============================] - 8s 140us/sample - loss: 0.4509 - accuracy: 0.8746 - val_loss: 0.3911 - val_accuracy: 0.8981\n",
            "Epoch 20/100\n",
            "60000/60000 [==============================] - 8s 141us/sample - loss: 0.4234 - accuracy: 0.8824 - val_loss: 0.3692 - val_accuracy: 0.9022\n",
            "Epoch 21/100\n",
            "60000/60000 [==============================] - 8s 140us/sample - loss: 0.4050 - accuracy: 0.8870 - val_loss: 0.3512 - val_accuracy: 0.9068\n",
            "Epoch 22/100\n",
            "60000/60000 [==============================] - 8s 140us/sample - loss: 0.3877 - accuracy: 0.8917 - val_loss: 0.3373 - val_accuracy: 0.9115\n",
            "Epoch 23/100\n",
            "60000/60000 [==============================] - 8s 139us/sample - loss: 0.3718 - accuracy: 0.8954 - val_loss: 0.3267 - val_accuracy: 0.9142\n",
            "Epoch 24/100\n",
            "60000/60000 [==============================] - 9s 142us/sample - loss: 0.3605 - accuracy: 0.8998 - val_loss: 0.3137 - val_accuracy: 0.9180\n",
            "Epoch 25/100\n",
            "60000/60000 [==============================] - 9s 153us/sample - loss: 0.3469 - accuracy: 0.9018 - val_loss: 0.3066 - val_accuracy: 0.9189\n",
            "Epoch 26/100\n",
            "60000/60000 [==============================] - 9s 145us/sample - loss: 0.3393 - accuracy: 0.9039 - val_loss: 0.2973 - val_accuracy: 0.9216\n",
            "Epoch 27/100\n",
            "60000/60000 [==============================] - 9s 144us/sample - loss: 0.3261 - accuracy: 0.9080 - val_loss: 0.2907 - val_accuracy: 0.9209\n",
            "Epoch 28/100\n",
            "60000/60000 [==============================] - 8s 141us/sample - loss: 0.3136 - accuracy: 0.9118 - val_loss: 0.2853 - val_accuracy: 0.9230\n",
            "Epoch 29/100\n",
            "60000/60000 [==============================] - 9s 142us/sample - loss: 0.3045 - accuracy: 0.9144 - val_loss: 0.2724 - val_accuracy: 0.9282\n",
            "Epoch 30/100\n",
            "60000/60000 [==============================] - 8s 141us/sample - loss: 0.2914 - accuracy: 0.9177 - val_loss: 0.2630 - val_accuracy: 0.9301\n",
            "Epoch 31/100\n",
            "60000/60000 [==============================] - 9s 143us/sample - loss: 0.2828 - accuracy: 0.9203 - val_loss: 0.2573 - val_accuracy: 0.9324\n",
            "Epoch 32/100\n",
            "60000/60000 [==============================] - 8s 140us/sample - loss: 0.2741 - accuracy: 0.9234 - val_loss: 0.2492 - val_accuracy: 0.9321\n",
            "Epoch 33/100\n",
            "60000/60000 [==============================] - 8s 141us/sample - loss: 0.2607 - accuracy: 0.9267 - val_loss: 0.2409 - val_accuracy: 0.9354\n",
            "Epoch 34/100\n",
            "60000/60000 [==============================] - 8s 140us/sample - loss: 0.2547 - accuracy: 0.9293 - val_loss: 0.2341 - val_accuracy: 0.9387\n",
            "Epoch 35/100\n",
            "60000/60000 [==============================] - 8s 140us/sample - loss: 0.2448 - accuracy: 0.9316 - val_loss: 0.2313 - val_accuracy: 0.9403\n",
            "Epoch 36/100\n",
            "60000/60000 [==============================] - 8s 142us/sample - loss: 0.2348 - accuracy: 0.9342 - val_loss: 0.2229 - val_accuracy: 0.9414\n",
            "Epoch 37/100\n",
            "60000/60000 [==============================] - 9s 142us/sample - loss: 0.2269 - accuracy: 0.9366 - val_loss: 0.2166 - val_accuracy: 0.9431\n",
            "Epoch 38/100\n",
            "60000/60000 [==============================] - 9s 144us/sample - loss: 0.2191 - accuracy: 0.9390 - val_loss: 0.2154 - val_accuracy: 0.9432\n",
            "Epoch 39/100\n",
            "60000/60000 [==============================] - 8s 141us/sample - loss: 0.2105 - accuracy: 0.9412 - val_loss: 0.2069 - val_accuracy: 0.9455\n",
            "Epoch 40/100\n",
            "60000/60000 [==============================] - 9s 143us/sample - loss: 0.2016 - accuracy: 0.9449 - val_loss: 0.2031 - val_accuracy: 0.9472\n",
            "Epoch 41/100\n",
            "60000/60000 [==============================] - 9s 143us/sample - loss: 0.1963 - accuracy: 0.9458 - val_loss: 0.1946 - val_accuracy: 0.9490\n",
            "Epoch 42/100\n",
            "60000/60000 [==============================] - 9s 143us/sample - loss: 0.1907 - accuracy: 0.9474 - val_loss: 0.1945 - val_accuracy: 0.9499\n",
            "Epoch 43/100\n",
            "60000/60000 [==============================] - 9s 145us/sample - loss: 0.1818 - accuracy: 0.9493 - val_loss: 0.1884 - val_accuracy: 0.9515\n",
            "Epoch 44/100\n",
            "60000/60000 [==============================] - 9s 142us/sample - loss: 0.1764 - accuracy: 0.9512 - val_loss: 0.1850 - val_accuracy: 0.9520\n",
            "Epoch 45/100\n",
            "60000/60000 [==============================] - 9s 149us/sample - loss: 0.1698 - accuracy: 0.9526 - val_loss: 0.1838 - val_accuracy: 0.9531\n",
            "Epoch 46/100\n",
            "60000/60000 [==============================] - 9s 145us/sample - loss: 0.1661 - accuracy: 0.9537 - val_loss: 0.1787 - val_accuracy: 0.9542\n",
            "Epoch 47/100\n",
            "60000/60000 [==============================] - 9s 146us/sample - loss: 0.1593 - accuracy: 0.9563 - val_loss: 0.1798 - val_accuracy: 0.9548\n",
            "Epoch 48/100\n",
            "60000/60000 [==============================] - 9s 150us/sample - loss: 0.1544 - accuracy: 0.9574 - val_loss: 0.1761 - val_accuracy: 0.9562\n",
            "Epoch 49/100\n",
            "60000/60000 [==============================] - 9s 148us/sample - loss: 0.1461 - accuracy: 0.9592 - val_loss: 0.1737 - val_accuracy: 0.9563\n",
            "Epoch 50/100\n",
            "60000/60000 [==============================] - 9s 151us/sample - loss: 0.1432 - accuracy: 0.9596 - val_loss: 0.1652 - val_accuracy: 0.9571\n",
            "Epoch 51/100\n",
            "60000/60000 [==============================] - 9s 146us/sample - loss: 0.1385 - accuracy: 0.9616 - val_loss: 0.1661 - val_accuracy: 0.9575\n",
            "Epoch 52/100\n",
            "60000/60000 [==============================] - 9s 151us/sample - loss: 0.1338 - accuracy: 0.9632 - val_loss: 0.1621 - val_accuracy: 0.9581\n",
            "Epoch 53/100\n",
            "60000/60000 [==============================] - 9s 149us/sample - loss: 0.1298 - accuracy: 0.9634 - val_loss: 0.1666 - val_accuracy: 0.9569\n",
            "Epoch 54/100\n",
            "60000/60000 [==============================] - 9s 145us/sample - loss: 0.1244 - accuracy: 0.9653 - val_loss: 0.1601 - val_accuracy: 0.9586\n",
            "Epoch 55/100\n",
            "60000/60000 [==============================] - 9s 144us/sample - loss: 0.1203 - accuracy: 0.9672 - val_loss: 0.1621 - val_accuracy: 0.9586\n",
            "Epoch 56/100\n",
            "60000/60000 [==============================] - 9s 143us/sample - loss: 0.1184 - accuracy: 0.9678 - val_loss: 0.1584 - val_accuracy: 0.9600\n",
            "Epoch 57/100\n",
            "60000/60000 [==============================] - 9s 146us/sample - loss: 0.1128 - accuracy: 0.9692 - val_loss: 0.1565 - val_accuracy: 0.9598\n",
            "Epoch 58/100\n",
            "60000/60000 [==============================] - 9s 143us/sample - loss: 0.1099 - accuracy: 0.9696 - val_loss: 0.1562 - val_accuracy: 0.9594\n",
            "Epoch 59/100\n",
            "60000/60000 [==============================] - 9s 151us/sample - loss: 0.1069 - accuracy: 0.9706 - val_loss: 0.1535 - val_accuracy: 0.9611\n",
            "Epoch 60/100\n",
            "60000/60000 [==============================] - 9s 149us/sample - loss: 0.1058 - accuracy: 0.9703 - val_loss: 0.1545 - val_accuracy: 0.9594\n",
            "Epoch 61/100\n",
            "60000/60000 [==============================] - 9s 155us/sample - loss: 0.0991 - accuracy: 0.9731 - val_loss: 0.1577 - val_accuracy: 0.9604\n",
            "Epoch 62/100\n",
            "60000/60000 [==============================] - 9s 143us/sample - loss: 0.0967 - accuracy: 0.9726 - val_loss: 0.1547 - val_accuracy: 0.9613\n",
            "Epoch 63/100\n",
            "60000/60000 [==============================] - 9s 145us/sample - loss: 0.0950 - accuracy: 0.9737 - val_loss: 0.1524 - val_accuracy: 0.9625\n",
            "Epoch 64/100\n",
            "60000/60000 [==============================] - 9s 148us/sample - loss: 0.0928 - accuracy: 0.9741 - val_loss: 0.1487 - val_accuracy: 0.9628\n",
            "Epoch 65/100\n",
            "60000/60000 [==============================] - 9s 151us/sample - loss: 0.0889 - accuracy: 0.9753 - val_loss: 0.1510 - val_accuracy: 0.9622\n",
            "Epoch 66/100\n",
            "60000/60000 [==============================] - 9s 150us/sample - loss: 0.0872 - accuracy: 0.9764 - val_loss: 0.1455 - val_accuracy: 0.9636\n",
            "Epoch 67/100\n",
            "60000/60000 [==============================] - 9s 144us/sample - loss: 0.0852 - accuracy: 0.9760 - val_loss: 0.1489 - val_accuracy: 0.9622\n",
            "Epoch 68/100\n",
            "60000/60000 [==============================] - 9s 147us/sample - loss: 0.0817 - accuracy: 0.9774 - val_loss: 0.1518 - val_accuracy: 0.9633\n",
            "Epoch 69/100\n",
            "60000/60000 [==============================] - 9s 147us/sample - loss: 0.0804 - accuracy: 0.9781 - val_loss: 0.1405 - val_accuracy: 0.9645\n",
            "Epoch 70/100\n",
            "60000/60000 [==============================] - 9s 148us/sample - loss: 0.0773 - accuracy: 0.9785 - val_loss: 0.1398 - val_accuracy: 0.9648\n",
            "Epoch 71/100\n",
            "60000/60000 [==============================] - 9s 144us/sample - loss: 0.0752 - accuracy: 0.9793 - val_loss: 0.1362 - val_accuracy: 0.9640\n",
            "Epoch 72/100\n",
            "60000/60000 [==============================] - 9s 143us/sample - loss: 0.0714 - accuracy: 0.9805 - val_loss: 0.1418 - val_accuracy: 0.9647\n",
            "Epoch 73/100\n",
            "60000/60000 [==============================] - 9s 144us/sample - loss: 0.0710 - accuracy: 0.9808 - val_loss: 0.1384 - val_accuracy: 0.9639\n",
            "Epoch 74/100\n",
            "60000/60000 [==============================] - 8s 140us/sample - loss: 0.0673 - accuracy: 0.9812 - val_loss: 0.1473 - val_accuracy: 0.9638\n",
            "Epoch 75/100\n",
            "60000/60000 [==============================] - 8s 141us/sample - loss: 0.0678 - accuracy: 0.9814 - val_loss: 0.1442 - val_accuracy: 0.9640\n",
            "Epoch 76/100\n",
            "60000/60000 [==============================] - 9s 151us/sample - loss: 0.0640 - accuracy: 0.9822 - val_loss: 0.1448 - val_accuracy: 0.9644\n",
            "Epoch 77/100\n",
            "60000/60000 [==============================] - 10s 170us/sample - loss: 0.0639 - accuracy: 0.9819 - val_loss: 0.1394 - val_accuracy: 0.9658\n",
            "Epoch 78/100\n",
            "60000/60000 [==============================] - 10s 165us/sample - loss: 0.0620 - accuracy: 0.9832 - val_loss: 0.1363 - val_accuracy: 0.9655\n",
            "Epoch 79/100\n",
            "60000/60000 [==============================] - 11s 178us/sample - loss: 0.0612 - accuracy: 0.9833 - val_loss: 0.1435 - val_accuracy: 0.9632\n",
            "Epoch 80/100\n",
            "60000/60000 [==============================] - 10s 164us/sample - loss: 0.0589 - accuracy: 0.9839 - val_loss: 0.1353 - val_accuracy: 0.9655\n",
            "Epoch 81/100\n",
            "60000/60000 [==============================] - 10s 169us/sample - loss: 0.0577 - accuracy: 0.9839 - val_loss: 0.1429 - val_accuracy: 0.9653\n",
            "Epoch 82/100\n",
            "60000/60000 [==============================] - 10s 158us/sample - loss: 0.0557 - accuracy: 0.9846 - val_loss: 0.1386 - val_accuracy: 0.9654\n",
            "Epoch 83/100\n",
            "60000/60000 [==============================] - 9s 148us/sample - loss: 0.0547 - accuracy: 0.9850 - val_loss: 0.1361 - val_accuracy: 0.9661\n",
            "Epoch 84/100\n",
            "60000/60000 [==============================] - 9s 143us/sample - loss: 0.0524 - accuracy: 0.9858 - val_loss: 0.1377 - val_accuracy: 0.9655\n",
            "Epoch 85/100\n",
            "60000/60000 [==============================] - 9s 145us/sample - loss: 0.0524 - accuracy: 0.9861 - val_loss: 0.1358 - val_accuracy: 0.9650\n",
            "Epoch 86/100\n",
            "60000/60000 [==============================] - 9s 148us/sample - loss: 0.0511 - accuracy: 0.9862 - val_loss: 0.1405 - val_accuracy: 0.9652\n",
            "Epoch 87/100\n",
            "60000/60000 [==============================] - 9s 144us/sample - loss: 0.0498 - accuracy: 0.9865 - val_loss: 0.1375 - val_accuracy: 0.9655\n",
            "Epoch 88/100\n",
            "60000/60000 [==============================] - 9s 143us/sample - loss: 0.0475 - accuracy: 0.9872 - val_loss: 0.1406 - val_accuracy: 0.9652\n",
            "Epoch 89/100\n",
            "60000/60000 [==============================] - 9s 143us/sample - loss: 0.0470 - accuracy: 0.9872 - val_loss: 0.1395 - val_accuracy: 0.9655\n",
            "Epoch 90/100\n",
            "60000/60000 [==============================] - 9s 145us/sample - loss: 0.0454 - accuracy: 0.9882 - val_loss: 0.1396 - val_accuracy: 0.9657\n",
            "Epoch 91/100\n",
            "60000/60000 [==============================] - 8s 140us/sample - loss: 0.0446 - accuracy: 0.9879 - val_loss: 0.1414 - val_accuracy: 0.9653\n",
            "Epoch 92/100\n",
            "60000/60000 [==============================] - 9s 144us/sample - loss: 0.0433 - accuracy: 0.9884 - val_loss: 0.1350 - val_accuracy: 0.9668\n",
            "Epoch 93/100\n",
            "60000/60000 [==============================] - 9s 143us/sample - loss: 0.0431 - accuracy: 0.9883 - val_loss: 0.1298 - val_accuracy: 0.9654\n",
            "Epoch 94/100\n",
            "60000/60000 [==============================] - 9s 147us/sample - loss: 0.0421 - accuracy: 0.9880 - val_loss: 0.1389 - val_accuracy: 0.9662\n",
            "Epoch 95/100\n",
            "60000/60000 [==============================] - 9s 147us/sample - loss: 0.0411 - accuracy: 0.9891 - val_loss: 0.1356 - val_accuracy: 0.9664\n",
            "Epoch 96/100\n",
            "60000/60000 [==============================] - 9s 150us/sample - loss: 0.0392 - accuracy: 0.9898 - val_loss: 0.1330 - val_accuracy: 0.9672\n",
            "Epoch 97/100\n",
            "60000/60000 [==============================] - 10s 164us/sample - loss: 0.0387 - accuracy: 0.9897 - val_loss: 0.1393 - val_accuracy: 0.9669\n",
            "Epoch 98/100\n",
            "60000/60000 [==============================] - 10s 168us/sample - loss: 0.0365 - accuracy: 0.9905 - val_loss: 0.1391 - val_accuracy: 0.9674\n",
            "Epoch 99/100\n",
            "60000/60000 [==============================] - 8s 142us/sample - loss: 0.0362 - accuracy: 0.9902 - val_loss: 0.1374 - val_accuracy: 0.9677\n",
            "Epoch 100/100\n",
            "60000/60000 [==============================] - 9s 142us/sample - loss: 0.0359 - accuracy: 0.9905 - val_loss: 0.1380 - val_accuracy: 0.9675\n"
          ],
          "name": "stdout"
        },
        {
          "output_type": "execute_result",
          "data": {
            "text/plain": [
              "<tensorflow.python.keras.callbacks.History at 0x7f8b9d715f98>"
            ]
          },
          "metadata": {
            "tags": []
          },
          "execution_count": 13
        }
      ]
    },
    {
      "cell_type": "code",
      "metadata": {
        "id": "XWlJXGnO-wQG",
        "colab_type": "code",
        "colab": {}
      },
      "source": [
        "model.save(\"mnist_dnn_v2.h5\")"
      ],
      "execution_count": 0,
      "outputs": []
    },
    {
      "cell_type": "code",
      "metadata": {
        "id": "yc57AveWWXgr",
        "colab_type": "code",
        "colab": {}
      },
      "source": [
        "from google.colab import files\n",
        "files.download(\"mnist_dnn_v2.h5\")"
      ],
      "execution_count": 0,
      "outputs": []
    },
    {
      "cell_type": "code",
      "metadata": {
        "id": "K95lzETYWeLa",
        "colab_type": "code",
        "colab": {}
      },
      "source": [
        ""
      ],
      "execution_count": 0,
      "outputs": []
    }
  ]
}
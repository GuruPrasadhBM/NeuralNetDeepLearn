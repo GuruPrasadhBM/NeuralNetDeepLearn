{
  "nbformat": 4,
  "nbformat_minor": 0,
  "metadata": {
    "colab": {
      "name": "HelloWorld.ipynb",
      "provenance": [],
      "collapsed_sections": [
        "J7DazcQdTIcA"
      ]
    },
    "kernelspec": {
      "name": "python3",
      "display_name": "Python 3"
    },
    "accelerator": "TPU"
  },
  "cells": [
    {
      "cell_type": "markdown",
      "metadata": {
        "id": "J7DazcQdTIcA",
        "colab_type": "text"
      },
      "source": [
        "# Load Tensor Flow"
      ]
    },
    {
      "cell_type": "code",
      "metadata": {
        "id": "Vy4ankRgTNBr",
        "colab_type": "code",
        "colab": {
          "base_uri": "https://localhost:8080/",
          "height": 1000
        },
        "outputId": "0df7c81e-0a57-4494-991d-c5ec14a17e06"
      },
      "source": [
        "# Check if Tensorflow is already installed\n",
        "!pip list"
      ],
      "execution_count": 3,
      "outputs": [
        {
          "output_type": "stream",
          "text": [
            "Package                  Version    \n",
            "------------------------ -----------\n",
            "-ensorflow               1.15.0     \n",
            "absl-py                  0.9.0      \n",
            "alabaster                0.7.12     \n",
            "albumentations           0.1.12     \n",
            "altair                   4.0.0      \n",
            "asgiref                  3.2.3      \n",
            "astor                    0.8.1      \n",
            "astropy                  4.0        \n",
            "atari-py                 0.2.6      \n",
            "atomicwrites             1.3.0      \n",
            "attrs                    19.3.0     \n",
            "audioread                2.1.8      \n",
            "autograd                 1.3        \n",
            "Babel                    2.8.0      \n",
            "backcall                 0.1.0      \n",
            "backports.tempfile       1.0        \n",
            "backports.weakref        1.0.post1  \n",
            "beautifulsoup4           4.6.3      \n",
            "bleach                   3.1.0      \n",
            "blis                     0.2.4      \n",
            "bokeh                    1.4.0      \n",
            "boto                     2.49.0     \n",
            "boto3                    1.10.47    \n",
            "botocore                 1.13.47    \n",
            "Bottleneck               1.3.1      \n",
            "branca                   0.3.1      \n",
            "bs4                      0.0.1      \n",
            "bz2file                  0.98       \n",
            "cachetools               4.0.0      \n",
            "certifi                  2019.11.28 \n",
            "cffi                     1.13.2     \n",
            "chainer                  6.5.0      \n",
            "chardet                  3.0.4      \n",
            "chart-studio             1.0.0      \n",
            "Click                    7.0        \n",
            "cloudpickle              1.2.2      \n",
            "cmake                    3.12.0     \n",
            "colorlover               0.3.0      \n",
            "community                1.0.0b1    \n",
            "contextlib2              0.5.5      \n",
            "convertdate              2.2.0      \n",
            "coverage                 3.7.1      \n",
            "coveralls                0.5        \n",
            "crcmod                   1.7        \n",
            "cufflinks                0.17.0     \n",
            "cvxopt                   1.2.3      \n",
            "cvxpy                    1.0.25     \n",
            "cycler                   0.10.0     \n",
            "cymem                    2.0.3      \n",
            "Cython                   0.29.14    \n",
            "daft                     0.0.4      \n",
            "dask                     2.9.1      \n",
            "dataclasses              0.7        \n",
            "datascience              0.10.6     \n",
            "decorator                4.4.1      \n",
            "defusedxml               0.6.0      \n",
            "descartes                1.1.0      \n",
            "dill                     0.3.1.1    \n",
            "distributed              1.25.3     \n",
            "Django                   3.0.2      \n",
            "dlib                     19.18.0    \n",
            "dm-sonnet                1.35       \n",
            "docopt                   0.6.2      \n",
            "docutils                 0.15.2     \n",
            "dopamine-rl              1.0.5      \n",
            "earthengine-api          0.1.209    \n",
            "easydict                 1.9        \n",
            "ecos                     2.0.7.post1\n",
            "editdistance             0.5.3      \n",
            "en-core-web-sm           2.1.0      \n",
            "entrypoints              0.3        \n",
            "et-xmlfile               1.0.1      \n",
            "fa2                      0.3.5      \n",
            "fancyimpute              0.4.3      \n",
            "fastai                   1.0.60     \n",
            "fastcache                1.1.0      \n",
            "fastdtw                  0.3.4      \n",
            "fastprogress             0.2.2      \n",
            "fastrlock                0.4        \n",
            "fbprophet                0.5        \n",
            "feather-format           0.4.0      \n",
            "featuretools             0.4.1      \n",
            "filelock                 3.0.12     \n",
            "fix-yahoo-finance        0.0.22     \n",
            "Flask                    1.1.1      \n",
            "folium                   0.8.3      \n",
            "fsspec                   0.6.2      \n",
            "future                   0.16.0     \n",
            "gast                     0.2.2      \n",
            "GDAL                     2.2.2      \n",
            "gdown                    3.6.4      \n",
            "gensim                   3.6.0      \n",
            "geographiclib            1.50       \n",
            "geopy                    1.17.0     \n",
            "gevent                   1.4.0      \n",
            "gin-config               0.3.0      \n",
            "glob2                    0.7        \n",
            "google                   2.0.3      \n",
            "google-api-core          1.15.0     \n",
            "google-api-python-client 1.7.11     \n",
            "google-auth              1.11.0     \n",
            "google-auth-httplib2     0.0.3      \n",
            "google-auth-oauthlib     0.4.1      \n",
            "google-cloud-bigquery    1.21.0     \n",
            "google-cloud-core        1.0.3      \n",
            "google-cloud-datastore   1.8.0      \n",
            "google-cloud-language    1.2.0      \n",
            "google-cloud-storage     1.16.2     \n",
            "google-cloud-translate   1.5.0      \n",
            "google-colab             1.0.0      \n",
            "google-pasta             0.1.8      \n",
            "google-resumable-media   0.4.1      \n",
            "googleapis-common-protos 1.6.0      \n",
            "googledrivedownloader    0.4        \n",
            "graph-nets               1.0.5      \n",
            "graphviz                 0.10.1     \n",
            "greenlet                 0.4.15     \n",
            "grpcio                   1.15.0     \n",
            "gspread                  3.0.1      \n",
            "gspread-dataframe        3.0.3      \n",
            "gunicorn                 20.0.4     \n",
            "gym                      0.15.4     \n",
            "h5py                     2.8.0      \n",
            "HeapDict                 1.0.1      \n",
            "holidays                 0.9.12     \n",
            "html5lib                 1.0.1      \n",
            "httpimport               0.5.18     \n",
            "httplib2                 0.11.3     \n",
            "humanize                 0.5.1      \n",
            "hyperopt                 0.1.2      \n",
            "ideep4py                 2.0.0.post3\n",
            "idna                     2.8        \n",
            "image                    1.5.27     \n",
            "imageio                  2.4.1      \n",
            "imagesize                1.2.0      \n",
            "imbalanced-learn         0.4.3      \n",
            "imblearn                 0.0        \n",
            "imgaug                   0.2.9      \n",
            "importlib-metadata       1.4.0      \n",
            "imutils                  0.5.3      \n",
            "inflect                  2.1.0      \n",
            "intel-openmp             2020.0.133 \n",
            "intervaltree             2.1.0      \n",
            "ipykernel                4.6.1      \n",
            "ipython                  5.5.0      \n",
            "ipython-genutils         0.2.0      \n",
            "ipython-sql              0.3.9      \n",
            "ipywidgets               7.5.1      \n",
            "itsdangerous             1.1.0      \n",
            "jax                      0.1.52     \n",
            "jaxlib                   0.1.36     \n",
            "jdcal                    1.4.1      \n",
            "jedi                     0.15.2     \n",
            "jieba                    0.40       \n",
            "Jinja2                   2.10.3     \n",
            "jmespath                 0.9.4      \n",
            "joblib                   0.14.1     \n",
            "jpeg4py                  0.1.4      \n",
            "jsonschema               2.6.0      \n",
            "jupyter                  1.0.0      \n",
            "jupyter-client           5.3.4      \n",
            "jupyter-console          5.2.0      \n",
            "jupyter-core             4.6.1      \n",
            "kaggle                   1.5.6      \n",
            "kapre                    0.1.3.1    \n",
            "Keras                    2.2.5      \n",
            "Keras-Applications       1.0.8      \n",
            "Keras-Preprocessing      1.1.0      \n",
            "keras-vis                0.4.1      \n",
            "kfac                     0.2.0      \n",
            "kiwisolver               1.1.0      \n",
            "knnimpute                0.1.0      \n",
            "librosa                  0.6.3      \n",
            "lightgbm                 2.2.3      \n",
            "llvmlite                 0.31.0     \n",
            "lmdb                     0.98       \n",
            "lucid                    0.3.8      \n",
            "lunardate                0.2.0      \n",
            "lxml                     4.2.6      \n",
            "magenta                  0.3.19     \n",
            "Markdown                 3.1.1      \n",
            "MarkupSafe               1.1.1      \n",
            "matplotlib               3.1.2      \n",
            "matplotlib-venn          0.11.5     \n",
            "mesh-tensorflow          0.1.8      \n",
            "mido                     1.2.6      \n",
            "mir-eval                 0.5        \n",
            "missingno                0.4.2      \n",
            "mistune                  0.8.4      \n",
            "mizani                   0.6.0      \n",
            "mkl                      2019.0     \n",
            "mlxtend                  0.14.0     \n",
            "more-itertools           8.0.2      \n",
            "moviepy                  0.2.3.5    \n",
            "mpi4py                   3.0.3      \n",
            "mpmath                   1.1.0      \n",
            "msgpack                  0.5.6      \n",
            "multiprocess             0.70.9     \n",
            "multitasking             0.0.9      \n",
            "murmurhash               1.0.2      \n",
            "music21                  5.5.0      \n",
            "natsort                  5.5.0      \n",
            "nbconvert                5.6.1      \n",
            "nbformat                 5.0.3      \n",
            "networkx                 2.4        \n",
            "nibabel                  2.3.3      \n",
            "nltk                     3.2.5      \n",
            "notebook                 5.2.2      \n",
            "np-utils                 0.5.12.1   \n",
            "numba                    0.47.0     \n",
            "numexpr                  2.7.1      \n",
            "numpy                    1.17.5     \n",
            "nvidia-ml-py3            7.352.0    \n",
            "oauth2client             4.1.3      \n",
            "oauthlib                 3.1.0      \n",
            "okgrade                  0.4.3      \n",
            "opencv-contrib-python    4.1.2.30   \n",
            "opencv-python            4.1.2.30   \n",
            "openpyxl                 2.5.9      \n",
            "opt-einsum               3.1.0      \n",
            "osqp                     0.6.1      \n",
            "packaging                20.0       \n",
            "palettable               3.3.0      \n",
            "pandas                   0.25.3     \n",
            "pandas-datareader        0.7.4      \n",
            "pandas-gbq               0.11.0     \n",
            "pandas-profiling         1.4.1      \n",
            "pandocfilters            1.4.2      \n",
            "parso                    0.5.2      \n",
            "pathlib                  1.0.1      \n",
            "patsy                    0.5.1      \n",
            "pexpect                  4.7.0      \n",
            "pickleshare              0.7.5      \n",
            "Pillow                   6.2.2      \n",
            "pip                      19.3.1     \n",
            "pip-tools                4.2.0      \n",
            "plac                     0.9.6      \n",
            "plotly                   4.4.1      \n",
            "plotnine                 0.6.0      \n",
            "pluggy                   0.7.1      \n",
            "portpicker               1.2.0      \n",
            "prefetch-generator       1.0.1      \n",
            "preshed                  2.0.1      \n",
            "pretty-midi              0.2.8      \n",
            "prettytable              0.7.2      \n",
            "progressbar2             3.38.0     \n",
            "prometheus-client        0.7.1      \n",
            "promise                  2.3        \n",
            "prompt-toolkit           1.0.18     \n",
            "protobuf                 3.10.0     \n",
            "psutil                   5.4.8      \n",
            "psycopg2                 2.7.6.1    \n",
            "ptyprocess               0.6.0      \n",
            "py                       1.8.1      \n",
            "pyarrow                  0.14.1     \n",
            "pyasn1                   0.4.8      \n",
            "pyasn1-modules           0.2.7      \n",
            "pycocotools              2.0.0      \n",
            "pycparser                2.19       \n",
            "pydata-google-auth       0.2.1      \n",
            "pydot                    1.3.0      \n",
            "pydot-ng                 2.0.0      \n",
            "pydotplus                2.0.2      \n",
            "PyDrive                  1.3.1      \n",
            "pyemd                    0.5.1      \n",
            "pyglet                   1.3.2      \n",
            "Pygments                 2.1.3      \n",
            "pygobject                3.26.1     \n",
            "pymc3                    3.7        \n",
            "PyMeeus                  0.3.6      \n",
            "pymongo                  3.10.0     \n",
            "pymystem3                0.2.0      \n",
            "PyOpenGL                 3.1.5      \n",
            "pyparsing                2.4.6      \n",
            "pypng                    0.0.20     \n",
            "pyrsistent               0.15.7     \n",
            "pysndfile                1.3.8      \n",
            "PySocks                  1.7.1      \n",
            "pystan                   2.19.1.1   \n",
            "pytest                   3.6.4      \n",
            "python-apt               1.6.4      \n",
            "python-chess             0.23.11    \n",
            "python-dateutil          2.6.1      \n",
            "python-louvain           0.13       \n",
            "python-rtmidi            1.3.1      \n",
            "python-slugify           4.0.0      \n",
            "python-utils             2.3.0      \n",
            "pytz                     2018.9     \n",
            "PyWavelets               1.1.1      \n",
            "PyYAML                   3.13       \n",
            "pyzmq                    17.0.0     \n",
            "qtconsole                4.6.0      \n",
            "regex                    2019.12.20 \n",
            "requests                 2.21.0     \n",
            "requests-oauthlib        1.3.0      \n",
            "resampy                  0.2.2      \n",
            "retrying                 1.3.3      \n",
            "rpy2                     2.9.5      \n",
            "rsa                      4.0        \n",
            "s3fs                     0.4.0      \n",
            "s3transfer               0.2.1      \n",
            "scikit-image             0.16.2     \n",
            "scikit-learn             0.22.1     \n",
            "scipy                    1.4.1      \n",
            "screen-resolution-extra  0.0.0      \n",
            "scs                      2.1.1.post2\n",
            "seaborn                  0.9.0      \n",
            "semantic-version         2.8.4      \n",
            "Send2Trash               1.5.0      \n",
            "setuptools               42.0.2     \n",
            "setuptools-git           1.2        \n",
            "Shapely                  1.6.4.post2\n",
            "simplegeneric            0.8.1      \n",
            "six                      1.12.0     \n",
            "sklearn                  0.0        \n",
            "sklearn-pandas           1.8.0      \n",
            "smart-open               1.9.0      \n",
            "snowballstemmer          2.0.0      \n",
            "sortedcontainers         2.1.0      \n",
            "spacy                    2.1.9      \n",
            "Sphinx                   1.8.5      \n",
            "sphinxcontrib-websupport 1.1.2      \n",
            "SQLAlchemy               1.3.12     \n",
            "sqlparse                 0.3.0      \n",
            "srsly                    1.0.1      \n",
            "stable-baselines         2.2.1      \n",
            "statsmodels              0.10.2     \n",
            "sympy                    1.1.1      \n",
            "tables                   3.4.4      \n",
            "tabulate                 0.8.6      \n",
            "tblib                    1.6.0      \n",
            "tensor2tensor            1.14.1     \n",
            "tensorboard              2.0.2      \n",
            "tensorboardcolab         0.0.22     \n",
            "tensorflow-datasets      1.3.2      \n",
            "tensorflow-estimator     2.0.1      \n",
            "tensorflow-gan           2.0.0      \n",
            "tensorflow-hub           0.7.0      \n",
            "tensorflow-metadata      0.15.2     \n",
            "tensorflow-privacy       0.2.2      \n",
            "tensorflow-probability   0.7.0      \n",
            "termcolor                1.1.0      \n",
            "terminado                0.8.3      \n",
            "testpath                 0.4.4      \n",
            "text-unidecode           1.3        \n",
            "textblob                 0.15.3     \n",
            "textgenrnn               1.4.1      \n",
            "tflearn                  0.3.2      \n",
            "Theano                   1.0.4      \n",
            "thinc                    7.0.8      \n",
            "toolz                    0.10.0     \n",
            "torch                    1.3.1      \n",
            "torchsummary             1.5.1      \n",
            "torchtext                0.3.1      \n",
            "torchvision              0.4.2      \n",
            "tornado                  4.5.3      \n",
            "tqdm                     4.28.1     \n",
            "traitlets                4.3.3      \n",
            "tweepy                   3.6.0      \n",
            "typing                   3.6.6      \n",
            "typing-extensions        3.6.6      \n",
            "tzlocal                  1.5.1      \n",
            "umap-learn               0.3.10     \n",
            "uritemplate              3.0.1      \n",
            "urllib3                  1.24.3     \n",
            "vega-datasets            0.8.0      \n",
            "wasabi                   0.6.0      \n",
            "wcwidth                  0.1.8      \n",
            "webencodings             0.5.1      \n",
            "Werkzeug                 0.16.0     \n",
            "wheel                    0.33.6     \n",
            "widgetsnbextension       3.5.1      \n",
            "wordcloud                1.5.0      \n",
            "wrapt                    1.11.2     \n",
            "xarray                   0.14.1     \n",
            "xgboost                  0.90       \n",
            "xkit                     0.0.0      \n",
            "xlrd                     1.1.0      \n",
            "xlwt                     1.3.0      \n",
            "yellowbrick              0.9.1      \n",
            "zict                     1.0.0      \n",
            "zipp                     1.0.0      \n",
            "zmq                      0.0.0      \n"
          ],
          "name": "stdout"
        }
      ]
    },
    {
      "cell_type": "code",
      "metadata": {
        "id": "rg4QudplTSyt",
        "colab_type": "code",
        "colab": {}
      },
      "source": [
        "# Make sure we have the latest version of TensorFlow 2.x Installed\n",
        "!pip install -U tensorflow==2.0 --quiet"
      ],
      "execution_count": 0,
      "outputs": []
    },
    {
      "cell_type": "code",
      "metadata": {
        "id": "16V90FF4TjbG",
        "colab_type": "code",
        "colab": {
          "base_uri": "https://localhost:8080/",
          "height": 34
        },
        "outputId": "e6e0ee21-8175-47db-bab4-64595d096966"
      },
      "source": [
        "# Import Tensorflow and check the version\n",
        "import tensorflow as tf\n",
        "tf.__version__"
      ],
      "execution_count": 6,
      "outputs": [
        {
          "output_type": "execute_result",
          "data": {
            "text/plain": [
              "'2.0.0'"
            ]
          },
          "metadata": {
            "tags": []
          },
          "execution_count": 6
        }
      ]
    },
    {
      "cell_type": "markdown",
      "metadata": {
        "id": "T4orcpNeUmYk",
        "colab_type": "text"
      },
      "source": [
        "# Create a Tensor"
      ]
    },
    {
      "cell_type": "code",
      "metadata": {
        "id": "L-F74jKJUpuc",
        "colab_type": "code",
        "colab": {}
      },
      "source": [
        "#What is a tensor?\n",
        "#Tensors are Numpy arrays supported on GPU; Data Object supported on GPU\n",
        "hello = tf.constant(\"Hello World!\")"
      ],
      "execution_count": 0,
      "outputs": []
    },
    {
      "cell_type": "code",
      "metadata": {
        "id": "k3FzYaDQUvEE",
        "colab_type": "code",
        "colab": {
          "base_uri": "https://localhost:8080/",
          "height": 34
        },
        "outputId": "f414d031-e4d2-4235-c254-c0966de3ffbe"
      },
      "source": [
        "print (hello)"
      ],
      "execution_count": 9,
      "outputs": [
        {
          "output_type": "stream",
          "text": [
            "tf.Tensor(b'Hello World!', shape=(), dtype=string)\n"
          ],
          "name": "stdout"
        }
      ]
    },
    {
      "cell_type": "markdown",
      "metadata": {
        "id": "IjMLVtmwXmpL",
        "colab_type": "text"
      },
      "source": [
        "The output shows the data is a Scaler, the shape is 0."
      ]
    },
    {
      "cell_type": "code",
      "metadata": {
        "id": "h5Y6qK4fUy0g",
        "colab_type": "code",
        "colab": {
          "base_uri": "https://localhost:8080/",
          "height": 34
        },
        "outputId": "1435c5a1-f768-4149-8bf9-2284f5d2e5d5"
      },
      "source": [
        "# To get the value of hello from the tensor\n",
        "print (hello.numpy())"
      ],
      "execution_count": 10,
      "outputs": [
        {
          "output_type": "stream",
          "text": [
            "b'Hello World!'\n"
          ],
          "name": "stdout"
        }
      ]
    },
    {
      "cell_type": "markdown",
      "metadata": {
        "id": "8dh5AK88YaW0",
        "colab_type": "text"
      },
      "source": [
        "# Tensor Name and Shape"
      ]
    },
    {
      "cell_type": "code",
      "metadata": {
        "id": "PIqDXRFjWPx0",
        "colab_type": "code",
        "colab": {
          "base_uri": "https://localhost:8080/",
          "height": 50
        },
        "outputId": "db0b50f1-5375-44e5-9ae0-654acab4515b"
      },
      "source": [
        "helloData = tf.constant(\"Hello world\", shape=[2,4])\n",
        "print (helloData.numpy())"
      ],
      "execution_count": 12,
      "outputs": [
        {
          "output_type": "stream",
          "text": [
            "[[b'Hello world' b'Hello world' b'Hello world' b'Hello world']\n",
            " [b'Hello world' b'Hello world' b'Hello world' b'Hello world']]\n"
          ],
          "name": "stdout"
        }
      ]
    },
    {
      "cell_type": "markdown",
      "metadata": {
        "id": "01pC83f8ZKYh",
        "colab_type": "text"
      },
      "source": [
        "Adding Two Tensors"
      ]
    },
    {
      "cell_type": "code",
      "metadata": {
        "id": "Dnp9S2IpZCX1",
        "colab_type": "code",
        "colab": {
          "base_uri": "https://localhost:8080/",
          "height": 34
        },
        "outputId": "ec5ae148-261f-4a61-f187-f45a668fd200"
      },
      "source": [
        "a = tf.constant([1.2])\n",
        "b= tf.constant([3.4])\n",
        "c = tf.add(a,b)\n",
        "print (c.numpy())"
      ],
      "execution_count": 14,
      "outputs": [
        {
          "output_type": "stream",
          "text": [
            "[4.6000004]\n"
          ],
          "name": "stdout"
        }
      ]
    }
  ]
}
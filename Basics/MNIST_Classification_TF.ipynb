{
 "cells": [
  {
   "cell_type": "markdown",
   "metadata": {
    "colab_type": "text",
    "id": "E6FfK-FIJRRC"
   },
   "source": [
    "Install Tensorflow"
   ]
  },
  {
   "cell_type": "code",
   "execution_count": 1,
   "metadata": {
    "colab": {
     "base_uri": "https://localhost:8080/",
     "height": 118
    },
    "colab_type": "code",
    "id": "-SB_2-8QJTue",
    "outputId": "700c88c5-3e81-42e3-932a-767b6a2d4e2a"
   },
   "outputs": [],
   "source": [
    "#!pip install -U tensorflow==2.0.0 --quiet"
   ]
  },
  {
   "cell_type": "markdown",
   "metadata": {
    "colab_type": "text",
    "id": "RkZV0iu1MQK_"
   },
   "source": [
    "Import Tensorflow"
   ]
  },
  {
   "cell_type": "code",
   "execution_count": 2,
   "metadata": {
    "colab": {},
    "colab_type": "code",
    "id": "-yy450yDMSck"
   },
   "outputs": [],
   "source": [
    "import tensorflow  as tf"
   ]
  },
  {
   "cell_type": "markdown",
   "metadata": {
    "colab_type": "text",
    "id": "4zGQq1iAMUnb"
   },
   "source": [
    "Import MNIST from Tensorflow and create Train and Test sets"
   ]
  },
  {
   "cell_type": "code",
   "execution_count": 3,
   "metadata": {
    "colab": {
     "base_uri": "https://localhost:8080/",
     "height": 50
    },
    "colab_type": "code",
    "id": "2alxeLzEMa9v",
    "outputId": "2e732164-3287-4ba1-d4c6-553e4519d72e"
   },
   "outputs": [
    {
     "name": "stdout",
     "output_type": "stream",
     "text": [
      "Downloading data from https://storage.googleapis.com/tensorflow/tf-keras-datasets/mnist.npz\n",
      "11493376/11490434 [==============================] - 15s 1us/step\n"
     ]
    }
   ],
   "source": [
    "(trainX,trainY),(testX,testY) = tf.keras.datasets.mnist.load_data()"
   ]
  },
  {
   "cell_type": "code",
   "execution_count": 4,
   "metadata": {
    "colab": {
     "base_uri": "https://localhost:8080/",
     "height": 34
    },
    "colab_type": "code",
    "id": "qR_Ut02gMudE",
    "outputId": "35dc4ad2-0499-421b-ea7e-7261e3d7456a"
   },
   "outputs": [
    {
     "data": {
      "text/plain": [
       "(60000, 28, 28)"
      ]
     },
     "execution_count": 4,
     "metadata": {},
     "output_type": "execute_result"
    }
   ],
   "source": [
    "trainX.shape"
   ]
  },
  {
   "cell_type": "code",
   "execution_count": 5,
   "metadata": {
    "colab": {
     "base_uri": "https://localhost:8080/",
     "height": 34
    },
    "colab_type": "code",
    "id": "rZRBtIaSMz5s",
    "outputId": "a3aa49c2-2f42-4f4d-dd16-831a7bd73cc6"
   },
   "outputs": [
    {
     "data": {
      "text/plain": [
       "(60000,)"
      ]
     },
     "execution_count": 5,
     "metadata": {},
     "output_type": "execute_result"
    }
   ],
   "source": [
    "trainY.shape"
   ]
  },
  {
   "cell_type": "code",
   "execution_count": 6,
   "metadata": {
    "colab": {
     "base_uri": "https://localhost:8080/",
     "height": 34
    },
    "colab_type": "code",
    "id": "sPYINf7bM4qI",
    "outputId": "9def929e-43ed-4bc3-84ff-397b5ebc3657"
   },
   "outputs": [
    {
     "data": {
      "text/plain": [
       "(10000, 28, 28)"
      ]
     },
     "execution_count": 6,
     "metadata": {},
     "output_type": "execute_result"
    }
   ],
   "source": [
    "testX.shape"
   ]
  },
  {
   "cell_type": "code",
   "execution_count": 7,
   "metadata": {
    "colab": {
     "base_uri": "https://localhost:8080/",
     "height": 34
    },
    "colab_type": "code",
    "id": "tWhh2bCfM6nW",
    "outputId": "e847124a-c709-497e-d419-b3f54defaa3c"
   },
   "outputs": [
    {
     "data": {
      "text/plain": [
       "(10000,)"
      ]
     },
     "execution_count": 7,
     "metadata": {},
     "output_type": "execute_result"
    }
   ],
   "source": [
    "testY.shape"
   ]
  },
  {
   "cell_type": "code",
   "execution_count": 8,
   "metadata": {
    "colab": {
     "base_uri": "https://localhost:8080/",
     "height": 1000
    },
    "colab_type": "code",
    "id": "7MvuXQuLM7lw",
    "outputId": "640415f3-18bc-41ce-b007-742e8ba6b748"
   },
   "outputs": [
    {
     "data": {
      "text/plain": [
       "array([[  0,   0,   0,   0,   0,   0,   0,   0,   0,   0,   0,   0,   0,\n",
       "          0,   0,   0,   0,   0,   0,   0,   0,   0,   0,   0,   0,   0,\n",
       "          0,   0],\n",
       "       [  0,   0,   0,   0,   0,   0,   0,   0,   0,   0,   0,   0,   0,\n",
       "          0,   0,   0,   0,   0,   0,   0,   0,   0,   0,   0,   0,   0,\n",
       "          0,   0],\n",
       "       [  0,   0,   0,   0,   0,   0,   0,   0,   0,   0,   0,   0,   0,\n",
       "          0,   0,   0,   0,   0,   0,   0,   0,   0,   0,   0,   0,   0,\n",
       "          0,   0],\n",
       "       [  0,   0,   0,   0,   0,   0,   0,   0,   0,   0,   0,   0,   0,\n",
       "          0,   0,   0,   0,   0,   0,   0,   0,   0,   0,   0,   0,   0,\n",
       "          0,   0],\n",
       "       [  0,   0,   0,   0,   0,   0,   0,   0,   0,   0,   0,   0,   0,\n",
       "          0,   0,   0,   0,   0,   0,   0,   0,   0,   0,   0,   0,   0,\n",
       "          0,   0],\n",
       "       [  0,   0,   0,   0,   0,   0,   0,   0,   0,   0,   0,   0,   3,\n",
       "         18,  18,  18, 126, 136, 175,  26, 166, 255, 247, 127,   0,   0,\n",
       "          0,   0],\n",
       "       [  0,   0,   0,   0,   0,   0,   0,   0,  30,  36,  94, 154, 170,\n",
       "        253, 253, 253, 253, 253, 225, 172, 253, 242, 195,  64,   0,   0,\n",
       "          0,   0],\n",
       "       [  0,   0,   0,   0,   0,   0,   0,  49, 238, 253, 253, 253, 253,\n",
       "        253, 253, 253, 253, 251,  93,  82,  82,  56,  39,   0,   0,   0,\n",
       "          0,   0],\n",
       "       [  0,   0,   0,   0,   0,   0,   0,  18, 219, 253, 253, 253, 253,\n",
       "        253, 198, 182, 247, 241,   0,   0,   0,   0,   0,   0,   0,   0,\n",
       "          0,   0],\n",
       "       [  0,   0,   0,   0,   0,   0,   0,   0,  80, 156, 107, 253, 253,\n",
       "        205,  11,   0,  43, 154,   0,   0,   0,   0,   0,   0,   0,   0,\n",
       "          0,   0],\n",
       "       [  0,   0,   0,   0,   0,   0,   0,   0,   0,  14,   1, 154, 253,\n",
       "         90,   0,   0,   0,   0,   0,   0,   0,   0,   0,   0,   0,   0,\n",
       "          0,   0],\n",
       "       [  0,   0,   0,   0,   0,   0,   0,   0,   0,   0,   0, 139, 253,\n",
       "        190,   2,   0,   0,   0,   0,   0,   0,   0,   0,   0,   0,   0,\n",
       "          0,   0],\n",
       "       [  0,   0,   0,   0,   0,   0,   0,   0,   0,   0,   0,  11, 190,\n",
       "        253,  70,   0,   0,   0,   0,   0,   0,   0,   0,   0,   0,   0,\n",
       "          0,   0],\n",
       "       [  0,   0,   0,   0,   0,   0,   0,   0,   0,   0,   0,   0,  35,\n",
       "        241, 225, 160, 108,   1,   0,   0,   0,   0,   0,   0,   0,   0,\n",
       "          0,   0],\n",
       "       [  0,   0,   0,   0,   0,   0,   0,   0,   0,   0,   0,   0,   0,\n",
       "         81, 240, 253, 253, 119,  25,   0,   0,   0,   0,   0,   0,   0,\n",
       "          0,   0],\n",
       "       [  0,   0,   0,   0,   0,   0,   0,   0,   0,   0,   0,   0,   0,\n",
       "          0,  45, 186, 253, 253, 150,  27,   0,   0,   0,   0,   0,   0,\n",
       "          0,   0],\n",
       "       [  0,   0,   0,   0,   0,   0,   0,   0,   0,   0,   0,   0,   0,\n",
       "          0,   0,  16,  93, 252, 253, 187,   0,   0,   0,   0,   0,   0,\n",
       "          0,   0],\n",
       "       [  0,   0,   0,   0,   0,   0,   0,   0,   0,   0,   0,   0,   0,\n",
       "          0,   0,   0,   0, 249, 253, 249,  64,   0,   0,   0,   0,   0,\n",
       "          0,   0],\n",
       "       [  0,   0,   0,   0,   0,   0,   0,   0,   0,   0,   0,   0,   0,\n",
       "          0,  46, 130, 183, 253, 253, 207,   2,   0,   0,   0,   0,   0,\n",
       "          0,   0],\n",
       "       [  0,   0,   0,   0,   0,   0,   0,   0,   0,   0,   0,   0,  39,\n",
       "        148, 229, 253, 253, 253, 250, 182,   0,   0,   0,   0,   0,   0,\n",
       "          0,   0],\n",
       "       [  0,   0,   0,   0,   0,   0,   0,   0,   0,   0,  24, 114, 221,\n",
       "        253, 253, 253, 253, 201,  78,   0,   0,   0,   0,   0,   0,   0,\n",
       "          0,   0],\n",
       "       [  0,   0,   0,   0,   0,   0,   0,   0,  23,  66, 213, 253, 253,\n",
       "        253, 253, 198,  81,   2,   0,   0,   0,   0,   0,   0,   0,   0,\n",
       "          0,   0],\n",
       "       [  0,   0,   0,   0,   0,   0,  18, 171, 219, 253, 253, 253, 253,\n",
       "        195,  80,   9,   0,   0,   0,   0,   0,   0,   0,   0,   0,   0,\n",
       "          0,   0],\n",
       "       [  0,   0,   0,   0,  55, 172, 226, 253, 253, 253, 253, 244, 133,\n",
       "         11,   0,   0,   0,   0,   0,   0,   0,   0,   0,   0,   0,   0,\n",
       "          0,   0],\n",
       "       [  0,   0,   0,   0, 136, 253, 253, 253, 212, 135, 132,  16,   0,\n",
       "          0,   0,   0,   0,   0,   0,   0,   0,   0,   0,   0,   0,   0,\n",
       "          0,   0],\n",
       "       [  0,   0,   0,   0,   0,   0,   0,   0,   0,   0,   0,   0,   0,\n",
       "          0,   0,   0,   0,   0,   0,   0,   0,   0,   0,   0,   0,   0,\n",
       "          0,   0],\n",
       "       [  0,   0,   0,   0,   0,   0,   0,   0,   0,   0,   0,   0,   0,\n",
       "          0,   0,   0,   0,   0,   0,   0,   0,   0,   0,   0,   0,   0,\n",
       "          0,   0],\n",
       "       [  0,   0,   0,   0,   0,   0,   0,   0,   0,   0,   0,   0,   0,\n",
       "          0,   0,   0,   0,   0,   0,   0,   0,   0,   0,   0,   0,   0,\n",
       "          0,   0]], dtype=uint8)"
      ]
     },
     "execution_count": 8,
     "metadata": {},
     "output_type": "execute_result"
    }
   ],
   "source": [
    "#Print first number in train set\n",
    "trainX[0]"
   ]
  },
  {
   "cell_type": "code",
   "execution_count": 9,
   "metadata": {
    "colab": {
     "base_uri": "https://localhost:8080/",
     "height": 282
    },
    "colab_type": "code",
    "id": "52UlUu_cVs2E",
    "outputId": "ba9a2607-4d85-4b9d-d550-ef5937e39a9e"
   },
   "outputs": [
    {
     "data": {
      "text/plain": [
       "<matplotlib.image.AxesImage at 0x2db797ce808>"
      ]
     },
     "execution_count": 9,
     "metadata": {},
     "output_type": "execute_result"
    }
   ],
   "source": [
    "#Print first Image\n",
    "import matplotlib.pyplot as plt\n",
    "plt.imshow(trainX[0],cmap='gray')"
   ]
  },
  {
   "cell_type": "code",
   "execution_count": null,
   "metadata": {
    "colab": {},
    "colab_type": "code",
    "id": "tMyFUsgdWV38"
   },
   "outputs": [],
   "source": []
  },
  {
   "cell_type": "markdown",
   "metadata": {
    "colab_type": "text",
    "id": "HQ6swyV1Wz0_"
   },
   "source": [
    "Convert lables into multiple values (One Hot Encoding)"
   ]
  },
  {
   "cell_type": "code",
   "execution_count": 10,
   "metadata": {
    "colab": {},
    "colab_type": "code",
    "id": "rv5O4fb1Xr0J"
   },
   "outputs": [
    {
     "name": "stdout",
     "output_type": "stream",
     "text": [
      "(60000,)\n",
      "First two examples are :  [5 0]\n"
     ]
    }
   ],
   "source": [
    "#Before conversion of labels\n",
    "print(trainY.shape)\n",
    "print(\"First two examples are : \",trainY[0:2])"
   ]
  },
  {
   "cell_type": "code",
   "execution_count": 11,
   "metadata": {
    "colab": {},
    "colab_type": "code",
    "id": "OT6PTYWYXA7Q"
   },
   "outputs": [],
   "source": [
    "#One Hot Encoding\n",
    "trainY= tf.keras.utils.to_categorical(trainY, num_classes=10)\n",
    "testY= tf.keras.utils.to_categorical(testY, num_classes=10)"
   ]
  },
  {
   "cell_type": "code",
   "execution_count": 12,
   "metadata": {
    "colab": {},
    "colab_type": "code",
    "id": "zhuiv1yIXg6V"
   },
   "outputs": [
    {
     "name": "stdout",
     "output_type": "stream",
     "text": [
      "(60000, 10)\n",
      "First two examples are :  [[0. 0. 0. 0. 0. 1. 0. 0. 0. 0.]\n",
      " [1. 0. 0. 0. 0. 0. 0. 0. 0. 0.]]\n"
     ]
    }
   ],
   "source": [
    "#After conversion of labels\n",
    "print(trainY.shape)\n",
    "print(\"First two examples are : \",trainY[0:2])"
   ]
  },
  {
   "cell_type": "markdown",
   "metadata": {
    "colab_type": "text",
    "id": "TOB5qOhRYFt2"
   },
   "source": [
    "Building the Graph"
   ]
  },
  {
   "cell_type": "code",
   "execution_count": 13,
   "metadata": {
    "colab": {},
    "colab_type": "code",
    "id": "kQXhZKDYYJC4"
   },
   "outputs": [],
   "source": [
    "# Initialize sequential model\n",
    "model = tf.keras.models.Sequential()"
   ]
  },
  {
   "cell_type": "code",
   "execution_count": 14,
   "metadata": {
    "colab": {},
    "colab_type": "code",
    "id": "K3Xn8qdqYeIN"
   },
   "outputs": [],
   "source": [
    "#Reshape data from matrix(2D) to Vector (1D) -24x24 to 784\n",
    "model.add(tf.keras.layers.Reshape((784,) ,input_shape=(28,28,)))"
   ]
  },
  {
   "cell_type": "code",
   "execution_count": 15,
   "metadata": {
    "colab": {},
    "colab_type": "code",
    "id": "nhdiVsJjZWLc"
   },
   "outputs": [],
   "source": [
    "#Normalize the data - Batch normalization does ZScore Normalization\n",
    "model.add(tf.keras.layers.BatchNormalization())"
   ]
  },
  {
   "cell_type": "code",
   "execution_count": 16,
   "metadata": {
    "colab": {},
    "colab_type": "code",
    "id": "uGNYZMHVZgqG"
   },
   "outputs": [],
   "source": [
    "#Add Dense functions to give 10 equations\n",
    "model.add(tf.keras.layers.Dense(10, activation ='softmax'))"
   ]
  },
  {
   "cell_type": "code",
   "execution_count": 17,
   "metadata": {
    "colab": {},
    "colab_type": "code",
    "id": "5G_dvqMcZ79g"
   },
   "outputs": [],
   "source": [
    "#Compile the model\n",
    "model.compile(optimizer='sgd', loss='categorical_crossentropy', metrics =['accuracy'])"
   ]
  },
  {
   "cell_type": "markdown",
   "metadata": {
    "colab_type": "text",
    "id": "NI-i8JIWiZXG"
   },
   "source": [
    "Execute the Graph"
   ]
  },
  {
   "cell_type": "code",
   "execution_count": 18,
   "metadata": {
    "colab": {
     "base_uri": "https://localhost:8080/",
     "height": 1000
    },
    "colab_type": "code",
    "id": "f6q3ATY2ia7m",
    "outputId": "ecc960ee-1e0f-4bc8-c073-8be86ed8e25a"
   },
   "outputs": [
    {
     "name": "stdout",
     "output_type": "stream",
     "text": [
      "Train on 60000 samples, validate on 10000 samples\n",
      "Epoch 1/100\n",
      "60000/60000 [==============================] - 3s 58us/sample - loss: 0.4952 - accuracy: 0.8558 - val_loss: 0.4370 - val_accuracy: 0.9012\n",
      "Epoch 2/100\n",
      "60000/60000 [==============================] - 3s 49us/sample - loss: 0.3541 - accuracy: 0.8980 - val_loss: 0.5279 - val_accuracy: 0.9087\n",
      "Epoch 3/100\n",
      "60000/60000 [==============================] - 3s 47us/sample - loss: 0.3346 - accuracy: 0.9035 - val_loss: 0.4520 - val_accuracy: 0.9115\n",
      "Epoch 4/100\n",
      "60000/60000 [==============================] - 3s 47us/sample - loss: 0.3251 - accuracy: 0.9073 - val_loss: 0.3864 - val_accuracy: 0.9156\n",
      "Epoch 5/100\n",
      "60000/60000 [==============================] - 3s 47us/sample - loss: 0.3178 - accuracy: 0.9090 - val_loss: 0.3788 - val_accuracy: 0.9153\n",
      "Epoch 6/100\n",
      "60000/60000 [==============================] - 3s 47us/sample - loss: 0.3130 - accuracy: 0.9104 - val_loss: 0.4584 - val_accuracy: 0.9167\n",
      "Epoch 7/100\n",
      "60000/60000 [==============================] - 3s 47us/sample - loss: 0.3098 - accuracy: 0.9112 - val_loss: 0.3223 - val_accuracy: 0.9172\n",
      "Epoch 8/100\n",
      "60000/60000 [==============================] - 3s 47us/sample - loss: 0.3054 - accuracy: 0.9125 - val_loss: 0.4761 - val_accuracy: 0.9156\n",
      "Epoch 9/100\n",
      "60000/60000 [==============================] - 3s 47us/sample - loss: 0.3037 - accuracy: 0.9143 - val_loss: 0.3641 - val_accuracy: 0.9183\n",
      "Epoch 10/100\n",
      "60000/60000 [==============================] - 3s 47us/sample - loss: 0.3003 - accuracy: 0.9148 - val_loss: 0.3513 - val_accuracy: 0.9182\n",
      "Epoch 11/100\n",
      "60000/60000 [==============================] - 3s 47us/sample - loss: 0.3016 - accuracy: 0.9154 - val_loss: 0.3619 - val_accuracy: 0.9191\n",
      "Epoch 12/100\n",
      "60000/60000 [==============================] - 3s 47us/sample - loss: 0.2985 - accuracy: 0.9153 - val_loss: 0.3853 - val_accuracy: 0.9185\n",
      "Epoch 13/100\n",
      "60000/60000 [==============================] - 3s 47us/sample - loss: 0.2999 - accuracy: 0.9158 - val_loss: 0.4014 - val_accuracy: 0.9192\n",
      "Epoch 14/100\n",
      "60000/60000 [==============================] - 3s 48us/sample - loss: 0.2988 - accuracy: 0.9154 - val_loss: 0.4204 - val_accuracy: 0.9190\n",
      "Epoch 15/100\n",
      "60000/60000 [==============================] - 3s 48us/sample - loss: 0.2953 - accuracy: 0.9159 - val_loss: 0.5091 - val_accuracy: 0.9172\n",
      "Epoch 16/100\n",
      "60000/60000 [==============================] - 3s 47us/sample - loss: 0.2945 - accuracy: 0.9163 - val_loss: 0.4244 - val_accuracy: 0.9190\n",
      "Epoch 17/100\n",
      "60000/60000 [==============================] - 3s 47us/sample - loss: 0.2921 - accuracy: 0.9158 - val_loss: 0.5585 - val_accuracy: 0.9197\n",
      "Epoch 18/100\n",
      "60000/60000 [==============================] - 3s 48us/sample - loss: 0.2923 - accuracy: 0.9172 - val_loss: 0.4856 - val_accuracy: 0.9197\n",
      "Epoch 19/100\n",
      "60000/60000 [==============================] - 3s 47us/sample - loss: 0.2909 - accuracy: 0.9185 - val_loss: 0.4083 - val_accuracy: 0.9200\n",
      "Epoch 20/100\n",
      "60000/60000 [==============================] - 3s 48us/sample - loss: 0.2897 - accuracy: 0.9164 - val_loss: 0.4221 - val_accuracy: 0.9194\n",
      "Epoch 21/100\n",
      "60000/60000 [==============================] - 3s 47us/sample - loss: 0.2915 - accuracy: 0.9172 - val_loss: 0.4734 - val_accuracy: 0.9190\n",
      "Epoch 22/100\n",
      "60000/60000 [==============================] - 3s 48us/sample - loss: 0.2890 - accuracy: 0.9178 - val_loss: 0.4913 - val_accuracy: 0.9187\n",
      "Epoch 23/100\n",
      "60000/60000 [==============================] - 3s 48us/sample - loss: 0.2890 - accuracy: 0.9173 - val_loss: 0.4486 - val_accuracy: 0.9193\n",
      "Epoch 24/100\n",
      "60000/60000 [==============================] - 3s 48us/sample - loss: 0.2888 - accuracy: 0.9176 - val_loss: 0.4109 - val_accuracy: 0.9196\n",
      "Epoch 25/100\n",
      "60000/60000 [==============================] - 3s 49us/sample - loss: 0.2880 - accuracy: 0.9186 - val_loss: 0.3933 - val_accuracy: 0.9209\n",
      "Epoch 26/100\n",
      "60000/60000 [==============================] - 3s 47us/sample - loss: 0.2891 - accuracy: 0.9176 - val_loss: 0.4810 - val_accuracy: 0.9193\n",
      "Epoch 27/100\n",
      "60000/60000 [==============================] - 3s 47us/sample - loss: 0.2884 - accuracy: 0.9180 - val_loss: 0.3824 - val_accuracy: 0.9199\n",
      "Epoch 28/100\n",
      "60000/60000 [==============================] - 3s 48us/sample - loss: 0.2880 - accuracy: 0.9175 - val_loss: 0.4261 - val_accuracy: 0.9187\n",
      "Epoch 29/100\n",
      "60000/60000 [==============================] - 3s 48us/sample - loss: 0.2886 - accuracy: 0.9176 - val_loss: 0.3939 - val_accuracy: 0.9210\n",
      "Epoch 30/100\n",
      "60000/60000 [==============================] - 3s 48us/sample - loss: 0.2887 - accuracy: 0.9172 - val_loss: 0.3596 - val_accuracy: 0.9205ss: 0.2886 - accura\n",
      "Epoch 31/100\n",
      "60000/60000 [==============================] - 3s 48us/sample - loss: 0.2864 - accuracy: 0.9185 - val_loss: 0.4353 - val_accuracy: 0.9207\n",
      "Epoch 32/100\n",
      "60000/60000 [==============================] - 3s 47us/sample - loss: 0.2849 - accuracy: 0.9193 - val_loss: 0.3820 - val_accuracy: 0.9195\n",
      "Epoch 33/100\n",
      "60000/60000 [==============================] - 3s 48us/sample - loss: 0.2864 - accuracy: 0.9189 - val_loss: 0.3962 - val_accuracy: 0.9208\n",
      "Epoch 34/100\n",
      "60000/60000 [==============================] - 3s 48us/sample - loss: 0.2870 - accuracy: 0.9178 - val_loss: 0.4922 - val_accuracy: 0.9198\n",
      "Epoch 35/100\n",
      "60000/60000 [==============================] - 3s 48us/sample - loss: 0.2865 - accuracy: 0.9186 - val_loss: 0.3973 - val_accuracy: 0.9190\n",
      "Epoch 36/100\n",
      "60000/60000 [==============================] - 3s 48us/sample - loss: 0.2854 - accuracy: 0.9189 - val_loss: 0.4083 - val_accuracy: 0.9201\n",
      "Epoch 37/100\n",
      "60000/60000 [==============================] - 3s 48us/sample - loss: 0.2843 - accuracy: 0.9189 - val_loss: 0.3979 - val_accuracy: 0.9200\n",
      "Epoch 38/100\n",
      "60000/60000 [==============================] - 3s 48us/sample - loss: 0.2884 - accuracy: 0.9179 - val_loss: 0.4416 - val_accuracy: 0.9212\n",
      "Epoch 39/100\n",
      "60000/60000 [==============================] - 3s 48us/sample - loss: 0.2866 - accuracy: 0.9183 - val_loss: 0.4056 - val_accuracy: 0.9208\n",
      "Epoch 40/100\n",
      "60000/60000 [==============================] - 3s 48us/sample - loss: 0.2830 - accuracy: 0.9195 - val_loss: 0.5009 - val_accuracy: 0.9206\n",
      "Epoch 41/100\n",
      "60000/60000 [==============================] - 3s 48us/sample - loss: 0.2844 - accuracy: 0.9193 - val_loss: 0.4717 - val_accuracy: 0.9202\n",
      "Epoch 42/100\n",
      "60000/60000 [==============================] - 3s 49us/sample - loss: 0.2828 - accuracy: 0.9203 - val_loss: 0.4455 - val_accuracy: 0.9199\n",
      "Epoch 43/100\n",
      "60000/60000 [==============================] - 3s 51us/sample - loss: 0.2822 - accuracy: 0.9200 - val_loss: 0.5330 - val_accuracy: 0.9196\n",
      "Epoch 44/100\n",
      "60000/60000 [==============================] - 3s 51us/sample - loss: 0.2848 - accuracy: 0.9180 - val_loss: 0.4254 - val_accuracy: 0.9196\n",
      "Epoch 45/100\n",
      "60000/60000 [==============================] - 3s 50us/sample - loss: 0.2829 - accuracy: 0.9187 - val_loss: 0.3676 - val_accuracy: 0.9194\n",
      "Epoch 46/100\n",
      "60000/60000 [==============================] - 3s 50us/sample - loss: 0.2840 - accuracy: 0.9192 - val_loss: 0.5090 - val_accuracy: 0.9208\n",
      "Epoch 47/100\n",
      "60000/60000 [==============================] - 3s 50us/sample - loss: 0.2837 - accuracy: 0.9186 - val_loss: 0.3946 - val_accuracy: 0.9198\n",
      "Epoch 48/100\n",
      "60000/60000 [==============================] - 3s 49us/sample - loss: 0.2829 - accuracy: 0.9195 - val_loss: 0.3853 - val_accuracy: 0.9204\n",
      "Epoch 49/100\n",
      "60000/60000 [==============================] - 3s 50us/sample - loss: 0.2817 - accuracy: 0.9197 - val_loss: 0.4021 - val_accuracy: 0.9186\n",
      "Epoch 50/100\n",
      "60000/60000 [==============================] - 3s 49us/sample - loss: 0.2807 - accuracy: 0.9196 - val_loss: 0.4524 - val_accuracy: 0.9199\n",
      "Epoch 51/100\n",
      "60000/60000 [==============================] - 3s 49us/sample - loss: 0.2808 - accuracy: 0.9194 - val_loss: 0.3840 - val_accuracy: 0.9207\n",
      "Epoch 52/100\n",
      "60000/60000 [==============================] - 3s 49us/sample - loss: 0.2840 - accuracy: 0.9172 - val_loss: 0.4940 - val_accuracy: 0.9194\n",
      "Epoch 53/100\n",
      "60000/60000 [==============================] - 3s 49us/sample - loss: 0.2819 - accuracy: 0.9192 - val_loss: 0.4505 - val_accuracy: 0.9186\n",
      "Epoch 54/100\n"
     ]
    },
    {
     "name": "stdout",
     "output_type": "stream",
     "text": [
      "60000/60000 [==============================] - 3s 49us/sample - loss: 0.2816 - accuracy: 0.9197 - val_loss: 0.4066 - val_accuracy: 0.9203\n",
      "Epoch 55/100\n",
      "60000/60000 [==============================] - 3s 48us/sample - loss: 0.2830 - accuracy: 0.9191 - val_loss: 0.4268 - val_accuracy: 0.9210\n",
      "Epoch 56/100\n",
      "60000/60000 [==============================] - 3s 48us/sample - loss: 0.2794 - accuracy: 0.9192 - val_loss: 0.4203 - val_accuracy: 0.9188\n",
      "Epoch 57/100\n",
      "60000/60000 [==============================] - 3s 49us/sample - loss: 0.2821 - accuracy: 0.9192 - val_loss: 0.4032 - val_accuracy: 0.9183\n",
      "Epoch 58/100\n",
      "60000/60000 [==============================] - 3s 48us/sample - loss: 0.2834 - accuracy: 0.9188 - val_loss: 0.3952 - val_accuracy: 0.9188\n",
      "Epoch 59/100\n",
      "60000/60000 [==============================] - 3s 48us/sample - loss: 0.2793 - accuracy: 0.9204 - val_loss: 0.5009 - val_accuracy: 0.9182\n",
      "Epoch 60/100\n",
      "60000/60000 [==============================] - 3s 49us/sample - loss: 0.2806 - accuracy: 0.9210 - val_loss: 0.4455 - val_accuracy: 0.9183\n",
      "Epoch 61/100\n",
      "60000/60000 [==============================] - 3s 48us/sample - loss: 0.2799 - accuracy: 0.9199 - val_loss: 0.4893 - val_accuracy: 0.9183\n",
      "Epoch 62/100\n",
      "60000/60000 [==============================] - 3s 48us/sample - loss: 0.2824 - accuracy: 0.9184 - val_loss: 0.4661 - val_accuracy: 0.9186\n",
      "Epoch 63/100\n",
      "60000/60000 [==============================] - 3s 50us/sample - loss: 0.2806 - accuracy: 0.9198 - val_loss: 0.5366 - val_accuracy: 0.9185\n",
      "Epoch 64/100\n",
      "60000/60000 [==============================] - 3s 49us/sample - loss: 0.2805 - accuracy: 0.9195 - val_loss: 0.5443 - val_accuracy: 0.9184\n",
      "Epoch 65/100\n",
      "60000/60000 [==============================] - 3s 50us/sample - loss: 0.2799 - accuracy: 0.9187 - val_loss: 0.6031 - val_accuracy: 0.9188\n",
      "Epoch 66/100\n",
      "60000/60000 [==============================] - 3s 50us/sample - loss: 0.2812 - accuracy: 0.9202 - val_loss: 0.4151 - val_accuracy: 0.9196\n",
      "Epoch 67/100\n",
      "60000/60000 [==============================] - 3s 51us/sample - loss: 0.2815 - accuracy: 0.9189 - val_loss: 0.4241 - val_accuracy: 0.9182\n",
      "Epoch 68/100\n",
      "60000/60000 [==============================] - 3s 51us/sample - loss: 0.2803 - accuracy: 0.9191 - val_loss: 0.5407 - val_accuracy: 0.9193\n",
      "Epoch 69/100\n",
      "60000/60000 [==============================] - 3s 50us/sample - loss: 0.2795 - accuracy: 0.9203 - val_loss: 0.4307 - val_accuracy: 0.9200\n",
      "Epoch 70/100\n",
      "60000/60000 [==============================] - 3s 51us/sample - loss: 0.2820 - accuracy: 0.9196 - val_loss: 0.4378 - val_accuracy: 0.9189\n",
      "Epoch 71/100\n",
      "60000/60000 [==============================] - 3s 49us/sample - loss: 0.2813 - accuracy: 0.9186 - val_loss: 0.4406 - val_accuracy: 0.9200\n",
      "Epoch 72/100\n",
      "60000/60000 [==============================] - 3s 49us/sample - loss: 0.2788 - accuracy: 0.9205 - val_loss: 0.3729 - val_accuracy: 0.9188\n",
      "Epoch 73/100\n",
      "60000/60000 [==============================] - 3s 50us/sample - loss: 0.2787 - accuracy: 0.9198 - val_loss: 0.4492 - val_accuracy: 0.9186\n",
      "Epoch 74/100\n",
      "60000/60000 [==============================] - 3s 48us/sample - loss: 0.2780 - accuracy: 0.9204 - val_loss: 0.4282 - val_accuracy: 0.9186\n",
      "Epoch 75/100\n",
      "60000/60000 [==============================] - 3s 50us/sample - loss: 0.2786 - accuracy: 0.9204 - val_loss: 0.3899 - val_accuracy: 0.9195\n",
      "Epoch 76/100\n",
      "60000/60000 [==============================] - 3s 49us/sample - loss: 0.2783 - accuracy: 0.9202 - val_loss: 0.4332 - val_accuracy: 0.9176\n",
      "Epoch 77/100\n",
      "60000/60000 [==============================] - 3s 49us/sample - loss: 0.2804 - accuracy: 0.9197 - val_loss: 0.4862 - val_accuracy: 0.9201\n",
      "Epoch 78/100\n",
      "60000/60000 [==============================] - 3s 48us/sample - loss: 0.2789 - accuracy: 0.9201 - val_loss: 0.3740 - val_accuracy: 0.9182\n",
      "Epoch 79/100\n",
      "60000/60000 [==============================] - 3s 49us/sample - loss: 0.2786 - accuracy: 0.9194 - val_loss: 0.3944 - val_accuracy: 0.9193\n",
      "Epoch 80/100\n",
      "60000/60000 [==============================] - 3s 49us/sample - loss: 0.2787 - accuracy: 0.9199 - val_loss: 0.4850 - val_accuracy: 0.9174s -\n",
      "Epoch 81/100\n",
      "60000/60000 [==============================] - 3s 48us/sample - loss: 0.2776 - accuracy: 0.9197 - val_loss: 0.4866 - val_accuracy: 0.9190\n",
      "Epoch 82/100\n",
      "60000/60000 [==============================] - 3s 49us/sample - loss: 0.2794 - accuracy: 0.9210 - val_loss: 0.5330 - val_accuracy: 0.9186\n",
      "Epoch 83/100\n",
      "60000/60000 [==============================] - 3s 49us/sample - loss: 0.2776 - accuracy: 0.9198 - val_loss: 0.3954 - val_accuracy: 0.9191\n",
      "Epoch 84/100\n",
      "60000/60000 [==============================] - 3s 49us/sample - loss: 0.2796 - accuracy: 0.9207 - val_loss: 0.4385 - val_accuracy: 0.9198\n",
      "Epoch 85/100\n",
      "60000/60000 [==============================] - 3s 50us/sample - loss: 0.2788 - accuracy: 0.9199 - val_loss: 0.5429 - val_accuracy: 0.9193\n",
      "Epoch 86/100\n",
      "60000/60000 [==============================] - 3s 47us/sample - loss: 0.2806 - accuracy: 0.9189 - val_loss: 0.4909 - val_accuracy: 0.9195\n",
      "Epoch 87/100\n",
      "60000/60000 [==============================] - 3s 47us/sample - loss: 0.2755 - accuracy: 0.9210 - val_loss: 0.5501 - val_accuracy: 0.9182\n",
      "Epoch 88/100\n",
      "60000/60000 [==============================] - 3s 48us/sample - loss: 0.2793 - accuracy: 0.9205 - val_loss: 0.4665 - val_accuracy: 0.9203\n",
      "Epoch 89/100\n",
      "60000/60000 [==============================] - 3s 48us/sample - loss: 0.2775 - accuracy: 0.9197 - val_loss: 0.4083 - val_accuracy: 0.9184loss: 0.2781 - accu\n",
      "Epoch 90/100\n",
      "60000/60000 [==============================] - 3s 48us/sample - loss: 0.2784 - accuracy: 0.9202 - val_loss: 0.3806 - val_accuracy: 0.9193\n",
      "Epoch 91/100\n",
      "60000/60000 [==============================] - 3s 47us/sample - loss: 0.2797 - accuracy: 0.9204 - val_loss: 0.4868 - val_accuracy: 0.9194\n",
      "Epoch 92/100\n",
      "60000/60000 [==============================] - 3s 48us/sample - loss: 0.2794 - accuracy: 0.9201 - val_loss: 0.4600 - val_accuracy: 0.9195\n",
      "Epoch 93/100\n",
      "60000/60000 [==============================] - 3s 47us/sample - loss: 0.2771 - accuracy: 0.9214 - val_loss: 0.5135 - val_accuracy: 0.9189\n",
      "Epoch 94/100\n",
      "60000/60000 [==============================] - 3s 47us/sample - loss: 0.2771 - accuracy: 0.9212 - val_loss: 0.4010 - val_accuracy: 0.9172\n",
      "Epoch 95/100\n",
      "60000/60000 [==============================] - 3s 47us/sample - loss: 0.2770 - accuracy: 0.9209 - val_loss: 0.5878 - val_accuracy: 0.9167\n",
      "Epoch 96/100\n",
      "60000/60000 [==============================] - 3s 47us/sample - loss: 0.2798 - accuracy: 0.9200 - val_loss: 0.5149 - val_accuracy: 0.9180\n",
      "Epoch 97/100\n",
      "60000/60000 [==============================] - 3s 47us/sample - loss: 0.2760 - accuracy: 0.9199 - val_loss: 0.5622 - val_accuracy: 0.9174\n",
      "Epoch 98/100\n",
      "60000/60000 [==============================] - 3s 47us/sample - loss: 0.2777 - accuracy: 0.9192 - val_loss: 0.4715 - val_accuracy: 0.9166\n",
      "Epoch 99/100\n",
      "60000/60000 [==============================] - 3s 47us/sample - loss: 0.2760 - accuracy: 0.9205 - val_loss: 0.5685 - val_accuracy: 0.9178\n",
      "Epoch 100/100\n",
      "60000/60000 [==============================] - 3s 47us/sample - loss: 0.2776 - accuracy: 0.9202 - val_loss: 0.5512 - val_accuracy: 0.9175\n"
     ]
    },
    {
     "data": {
      "text/plain": [
       "<tensorflow.python.keras.callbacks.History at 0x2db7a58bb08>"
      ]
     },
     "execution_count": 18,
     "metadata": {},
     "output_type": "execute_result"
    }
   ],
   "source": [
    "model.fit(trainX,trainY,validation_data=(testX,testY),epochs=100, batch_size=32)"
   ]
  },
  {
   "cell_type": "code",
   "execution_count": null,
   "metadata": {
    "colab": {},
    "colab_type": "code",
    "id": "yLqNp57ojhoX"
   },
   "outputs": [],
   "source": []
  }
 ],
 "metadata": {
  "colab": {
   "name": "MNIST_Classification_TF.ipynb",
   "provenance": []
  },
  "kernelspec": {
   "display_name": "Python 3",
   "language": "python",
   "name": "python3"
  },
  "language_info": {
   "codemirror_mode": {
    "name": "ipython",
    "version": 3
   },
   "file_extension": ".py",
   "mimetype": "text/x-python",
   "name": "python",
   "nbconvert_exporter": "python",
   "pygments_lexer": "ipython3",
   "version": "3.7.4"
  }
 },
 "nbformat": 4,
 "nbformat_minor": 1
}

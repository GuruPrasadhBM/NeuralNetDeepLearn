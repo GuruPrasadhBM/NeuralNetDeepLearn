{
  "nbformat": 4,
  "nbformat_minor": 0,
  "metadata": {
    "colab": {
      "name": "Normalized BostonHousing_tf_Basic.ipynb",
      "provenance": [],
      "collapsed_sections": []
    },
    "kernelspec": {
      "name": "python3",
      "display_name": "Python 3"
    }
  },
  "cells": [
    {
      "cell_type": "markdown",
      "metadata": {
        "id": "LnH4QrxwiHia",
        "colab_type": "text"
      },
      "source": [
        "Exercise"
      ]
    },
    {
      "cell_type": "markdown",
      "metadata": {
        "id": "PNoKKLJBicK9",
        "colab_type": "text"
      },
      "source": [
        "What Needs to be done?\n",
        "\n",
        "1. To build a Linear Regressor to predict HOusing Prices for Boston\n",
        "2. Use Tensorflow to build a Linear Regressor Model\n",
        "\n",
        "What is given?\n",
        "1. Housing prices data\n",
        "2. 13 features and price"
      ]
    },
    {
      "cell_type": "code",
      "metadata": {
        "id": "4DY-TOJfi55N",
        "colab_type": "code",
        "colab": {}
      },
      "source": [
        ""
      ],
      "execution_count": 0,
      "outputs": []
    },
    {
      "cell_type": "markdown",
      "metadata": {
        "id": "DAB1FT93keCK",
        "colab_type": "text"
      },
      "source": [
        "Load Tensorflow\n"
      ]
    },
    {
      "cell_type": "code",
      "metadata": {
        "id": "LoIIU3Yqkiw8",
        "colab_type": "code",
        "colab": {
          "base_uri": "https://localhost:8080/",
          "height": 118
        },
        "outputId": "eae9c82c-df8f-4890-8b88-a333a53e4fff"
      },
      "source": [
        "# MAke sure Tensorflow 2.x is installed\n",
        "!pip install -U Tensorflow==2.0.0 --quiet"
      ],
      "execution_count": 1,
      "outputs": [
        {
          "output_type": "stream",
          "text": [
            "\u001b[K     |████████████████████████████████| 86.3MB 70kB/s \n",
            "\u001b[K     |████████████████████████████████| 3.8MB 35.8MB/s \n",
            "\u001b[K     |████████████████████████████████| 450kB 37.5MB/s \n",
            "\u001b[K     |████████████████████████████████| 81kB 11.5MB/s \n",
            "\u001b[31mERROR: tensorboard 2.0.2 has requirement grpcio>=1.24.3, but you'll have grpcio 1.15.0 which is incompatible.\u001b[0m\n",
            "\u001b[31mERROR: google-colab 1.0.0 has requirement google-auth~=1.4.0, but you'll have google-auth 1.11.0 which is incompatible.\u001b[0m\n",
            "\u001b[?25h"
          ],
          "name": "stdout"
        }
      ]
    },
    {
      "cell_type": "code",
      "metadata": {
        "id": "ncxPhck_ksrb",
        "colab_type": "code",
        "outputId": "4ef6f7bc-b5db-4cf7-fd0f-3016e49506a6",
        "colab": {
          "base_uri": "https://localhost:8080/",
          "height": 34
        }
      },
      "source": [
        "import tensorflow as tf\n",
        "tf.__version__"
      ],
      "execution_count": 2,
      "outputs": [
        {
          "output_type": "execute_result",
          "data": {
            "text/plain": [
              "'2.0.0'"
            ]
          },
          "metadata": {
            "tags": []
          },
          "execution_count": 2
        }
      ]
    },
    {
      "cell_type": "code",
      "metadata": {
        "id": "QY1pg2Fxk6ns",
        "colab_type": "code",
        "colab": {}
      },
      "source": [
        ""
      ],
      "execution_count": 0,
      "outputs": []
    },
    {
      "cell_type": "markdown",
      "metadata": {
        "id": "gAJhLrRck7u5",
        "colab_type": "text"
      },
      "source": [
        "Load Data"
      ]
    },
    {
      "cell_type": "code",
      "metadata": {
        "id": "LZvWYtN_k_gC",
        "colab_type": "code",
        "colab": {
          "base_uri": "https://localhost:8080/",
          "height": 50
        },
        "outputId": "b7319cbf-77ed-47ca-8195-c1db71936ef3"
      },
      "source": [
        "#Load Boston Housing data available within tensorflow\n",
        "# We get the data as NumpyArray\n",
        "(train_x, train_y),(_,_) = tf.keras.datasets.boston_housing.load_data(test_split=0)"
      ],
      "execution_count": 3,
      "outputs": [
        {
          "output_type": "stream",
          "text": [
            "Downloading data from https://storage.googleapis.com/tensorflow/tf-keras-datasets/boston_housing.npz\n",
            "57344/57026 [==============================] - 0s 0us/step\n"
          ],
          "name": "stdout"
        }
      ]
    },
    {
      "cell_type": "code",
      "metadata": {
        "id": "ysOj4ObAlckL",
        "colab_type": "code",
        "outputId": "73ac6ea6-abb5-4a5e-b4f6-5f4f170e1306",
        "colab": {
          "base_uri": "https://localhost:8080/",
          "height": 34
        }
      },
      "source": [
        "#Check the number of training samples\n",
        "train_x.shape"
      ],
      "execution_count": 4,
      "outputs": [
        {
          "output_type": "execute_result",
          "data": {
            "text/plain": [
              "(506, 13)"
            ]
          },
          "metadata": {
            "tags": []
          },
          "execution_count": 4
        }
      ]
    },
    {
      "cell_type": "code",
      "metadata": {
        "id": "ajJkGV_fmBDm",
        "colab_type": "code",
        "colab": {}
      },
      "source": [
        "# Machine learning is about building logic using data and math"
      ],
      "execution_count": 0,
      "outputs": []
    },
    {
      "cell_type": "code",
      "metadata": {
        "id": "VfYw78-5mxog",
        "colab_type": "code",
        "outputId": "442117e6-6fe1-42ab-e27b-4ed31f493b82",
        "colab": {
          "base_uri": "https://localhost:8080/",
          "height": 34
        }
      },
      "source": [
        "train_x.dtype"
      ],
      "execution_count": 6,
      "outputs": [
        {
          "output_type": "execute_result",
          "data": {
            "text/plain": [
              "dtype('float64')"
            ]
          },
          "metadata": {
            "tags": []
          },
          "execution_count": 6
        }
      ]
    },
    {
      "cell_type": "code",
      "metadata": {
        "id": "v1EyM5OImeV9",
        "colab_type": "code",
        "colab": {}
      },
      "source": [
        "# Each floating point is stored in 64 bits of memory. 8 bytes. Numpy uses float64 as default notation\n",
        "# In tf, float 32 is used. to reduce memory requirement\n",
        "# convert the datatype as float32 (8 bytes to 4 bytes)\n",
        "#\n",
        "train_x = train_x.astype('float32')\n",
        "train_y =train_y.astype('float32')"
      ],
      "execution_count": 0,
      "outputs": []
    },
    {
      "cell_type": "code",
      "metadata": {
        "id": "zzm0kOYW88kN",
        "colab_type": "code",
        "outputId": "98f2ec3b-9906-484d-d608-cb10a0cfb8d3",
        "colab": {
          "base_uri": "https://localhost:8080/",
          "height": 269
        }
      },
      "source": [
        "train_x[0:5]"
      ],
      "execution_count": 8,
      "outputs": [
        {
          "output_type": "execute_result",
          "data": {
            "text/plain": [
              "array([[1.23247e+00, 0.00000e+00, 8.14000e+00, 0.00000e+00, 5.38000e-01,\n",
              "        6.14200e+00, 9.17000e+01, 3.97690e+00, 4.00000e+00, 3.07000e+02,\n",
              "        2.10000e+01, 3.96900e+02, 1.87200e+01],\n",
              "       [2.17700e-02, 8.25000e+01, 2.03000e+00, 0.00000e+00, 4.15000e-01,\n",
              "        7.61000e+00, 1.57000e+01, 6.27000e+00, 2.00000e+00, 3.48000e+02,\n",
              "        1.47000e+01, 3.95380e+02, 3.11000e+00],\n",
              "       [4.89822e+00, 0.00000e+00, 1.81000e+01, 0.00000e+00, 6.31000e-01,\n",
              "        4.97000e+00, 1.00000e+02, 1.33250e+00, 2.40000e+01, 6.66000e+02,\n",
              "        2.02000e+01, 3.75520e+02, 3.26000e+00],\n",
              "       [3.96100e-02, 0.00000e+00, 5.19000e+00, 0.00000e+00, 5.15000e-01,\n",
              "        6.03700e+00, 3.45000e+01, 5.98530e+00, 5.00000e+00, 2.24000e+02,\n",
              "        2.02000e+01, 3.96900e+02, 8.01000e+00],\n",
              "       [3.69311e+00, 0.00000e+00, 1.81000e+01, 0.00000e+00, 7.13000e-01,\n",
              "        6.37600e+00, 8.84000e+01, 2.56710e+00, 2.40000e+01, 6.66000e+02,\n",
              "        2.02000e+01, 3.91430e+02, 1.46500e+01]], dtype=float32)"
            ]
          },
          "metadata": {
            "tags": []
          },
          "execution_count": 8
        }
      ]
    },
    {
      "cell_type": "code",
      "metadata": {
        "id": "p8WFise-9F-o",
        "colab_type": "code",
        "outputId": "c86e7d7d-b8a6-4efe-943a-9312dab0fc22",
        "colab": {
          "base_uri": "https://localhost:8080/",
          "height": 34
        }
      },
      "source": [
        "train_y.shape"
      ],
      "execution_count": 9,
      "outputs": [
        {
          "output_type": "execute_result",
          "data": {
            "text/plain": [
              "(506,)"
            ]
          },
          "metadata": {
            "tags": []
          },
          "execution_count": 9
        }
      ]
    },
    {
      "cell_type": "markdown",
      "metadata": {
        "id": "Z0aWCL1nKsvN",
        "colab_type": "text"
      },
      "source": [
        "Normalize Input features\n"
      ]
    },
    {
      "cell_type": "code",
      "metadata": {
        "id": "QJWSxqCZKwuv",
        "colab_type": "code",
        "colab": {
          "base_uri": "https://localhost:8080/",
          "height": 67
        },
        "outputId": "1753ea84-05bb-457e-b908-63da6b01234d"
      },
      "source": [
        "from sklearn.preprocessing import Normalizer\n",
        "transformer= Normalizer()\n",
        "train_x = transformer.fit_transform(train_x)\n",
        "train_x[0]"
      ],
      "execution_count": 11,
      "outputs": [
        {
          "output_type": "execute_result",
          "data": {
            "text/plain": [
              "array([0.0024119 , 0.        , 0.01592969, 0.        , 0.00105285,\n",
              "       0.01201967, 0.17945358, 0.00778265, 0.00782786, 0.60078794,\n",
              "       0.04109624, 0.776719  , 0.03663436], dtype=float32)"
            ]
          },
          "metadata": {
            "tags": []
          },
          "execution_count": 11
        }
      ]
    },
    {
      "cell_type": "markdown",
      "metadata": {
        "id": "CjM6iYzK9n9y",
        "colab_type": "text"
      },
      "source": [
        "Build Model"
      ]
    },
    {
      "cell_type": "markdown",
      "metadata": {
        "id": "8MuJjYF19sUL",
        "colab_type": "text"
      },
      "source": [
        "Define Weights and Bias"
      ]
    },
    {
      "cell_type": "code",
      "metadata": {
        "id": "QoJDiV9B9wYd",
        "colab_type": "code",
        "colab": {}
      },
      "source": [
        "#Initializing the weights and bias with 0\n",
        "w= tf.zeros(shape=(13,1))\n",
        "b= tf.zeros(shape=(1))"
      ],
      "execution_count": 0,
      "outputs": []
    },
    {
      "cell_type": "markdown",
      "metadata": {
        "id": "sZrsXWqL-WPm",
        "colab_type": "text"
      },
      "source": [
        "Define a function to calculate prediction"
      ]
    },
    {
      "cell_type": "code",
      "metadata": {
        "id": "qNPZjMI7-U3Y",
        "colab_type": "code",
        "colab": {}
      },
      "source": [
        "def prediction(x,w,b):\n",
        "\n",
        "  xw_matmul=tf.matmul(x,w)\n",
        "  y = tf.add(xw_matmul,b)\n",
        "\n",
        "  return y"
      ],
      "execution_count": 0,
      "outputs": []
    },
    {
      "cell_type": "markdown",
      "metadata": {
        "id": "1tpZaiJc--h6",
        "colab_type": "text"
      },
      "source": [
        "Function to calculate Loss (Mean Squared Error)"
      ]
    },
    {
      "cell_type": "code",
      "metadata": {
        "id": "oZ70ziEn_rwk",
        "colab_type": "code",
        "colab": {}
      },
      "source": [
        "def loss(y_actual, y_predicted):\n",
        "  \n",
        "  diff = y_actual - y_predicted\n",
        "  sqr = tf.square(diff)\n",
        "  avg = tf.reduce_mean(sqr)\n",
        "\n",
        "  return avg"
      ],
      "execution_count": 0,
      "outputs": []
    },
    {
      "cell_type": "markdown",
      "metadata": {
        "id": "62d0-QlN__Nv",
        "colab_type": "text"
      },
      "source": [
        "Function to train the model\n"
      ]
    },
    {
      "cell_type": "markdown",
      "metadata": {
        "id": "zxptfzEhAL6X",
        "colab_type": "text"
      },
      "source": [
        "1. Record all the mathematical steps to calculate Loss, We shall record the steps using Gradient tape\n",
        "\n",
        "2. Calculate Gradients of Loss w.r.t weights and bias\n",
        "\n",
        "3. Update weights and bias based on gradients and learning rate"
      ]
    },
    {
      "cell_type": "markdown",
      "metadata": {
        "id": "WabfA_nwAE0j",
        "colab_type": "text"
      },
      "source": [
        "Function to Train the model"
      ]
    },
    {
      "cell_type": "code",
      "metadata": {
        "id": "MQ9ijA4J_Auw",
        "colab_type": "code",
        "colab": {}
      },
      "source": [
        "def train(x, y_actual,w,b, learning_rate=0.01):\n",
        "  \n",
        "  #Record mathematical operations on 'tape' to calculate loss\n",
        "  with tf.GradientTape() as gradientTape: \n",
        "\n",
        "    gradientTape.watch([w,b])\n",
        "\n",
        "    current_prediction = prediction(x,w,b)\n",
        "    current_loss = loss(y_actual, current_prediction)\n",
        "\n",
        "  #Calculate Gradients for Loss with respect to weights and Bia\n",
        "  dw,db = gradientTape.gradient(current_loss,[w,b])\n",
        "\n",
        "  #Update weights and bias\n",
        "  w=w-learning_rate*dw\n",
        "  b=b-learning_rate*db\n",
        "\n",
        "  return w, b"
      ],
      "execution_count": 0,
      "outputs": []
    },
    {
      "cell_type": "markdown",
      "metadata": {
        "id": "SOK66eo7EHK0",
        "colab_type": "text"
      },
      "source": [
        "Start Training"
      ]
    },
    {
      "cell_type": "code",
      "metadata": {
        "id": "LstmXiteEKQG",
        "colab_type": "code",
        "outputId": "9cd502f8-cb56-43f8-ad13-5f2a5a8f59a0",
        "colab": {
          "base_uri": "https://localhost:8080/",
          "height": 1000
        }
      },
      "source": [
        "#Train for 100 Steps : Model.fit\n",
        "for i in range(100):\n",
        "    w , b = train(train_x, train_y,w,b, learning_rate=0.01)\n",
        "    print('Current Loss on iteration', i, loss(train_y, prediction(train_x,w,b)).numpy())"
      ],
      "execution_count": 16,
      "outputs": [
        {
          "output_type": "stream",
          "text": [
            "Current Loss on iteration 0 553.7515\n",
            "Current Loss on iteration 1 518.26166\n",
            "Current Loss on iteration 2 485.45786\n",
            "Current Loss on iteration 3 455.13657\n",
            "Current Loss on iteration 4 427.10983\n",
            "Current Loss on iteration 5 401.20413\n",
            "Current Loss on iteration 6 377.25894\n",
            "Current Loss on iteration 7 355.12595\n",
            "Current Loss on iteration 8 334.66785\n",
            "Current Loss on iteration 9 315.75797\n",
            "Current Loss on iteration 10 298.27924\n",
            "Current Loss on iteration 11 282.1232\n",
            "Current Loss on iteration 12 267.1898\n",
            "Current Loss on iteration 13 253.38655\n",
            "Current Loss on iteration 14 240.62785\n",
            "Current Loss on iteration 15 228.83476\n",
            "Current Loss on iteration 16 217.93404\n",
            "Current Loss on iteration 17 207.85832\n",
            "Current Loss on iteration 18 198.54506\n",
            "Current Loss on iteration 19 189.9366\n",
            "Current Loss on iteration 20 181.9796\n",
            "Current Loss on iteration 21 174.62473\n",
            "Current Loss on iteration 22 167.82646\n",
            "Current Loss on iteration 23 161.54263\n",
            "Current Loss on iteration 24 155.73434\n",
            "Current Loss on iteration 25 150.36557\n",
            "Current Loss on iteration 26 145.40309\n",
            "Current Loss on iteration 27 140.81613\n",
            "Current Loss on iteration 28 136.5763\n",
            "Current Loss on iteration 29 132.65727\n",
            "Current Loss on iteration 30 129.0348\n",
            "Current Loss on iteration 31 125.68646\n",
            "Current Loss on iteration 32 122.59149\n",
            "Current Loss on iteration 33 119.73073\n",
            "Current Loss on iteration 34 117.086426\n",
            "Current Loss on iteration 35 114.64222\n",
            "Current Loss on iteration 36 112.38296\n",
            "Current Loss on iteration 37 110.29462\n",
            "Current Loss on iteration 38 108.36431\n",
            "Current Loss on iteration 39 106.58005\n",
            "Current Loss on iteration 40 104.93081\n",
            "Current Loss on iteration 41 103.406334\n",
            "Current Loss on iteration 42 101.9972\n",
            "Current Loss on iteration 43 100.6947\n",
            "Current Loss on iteration 44 99.49073\n",
            "Current Loss on iteration 45 98.377846\n",
            "Current Loss on iteration 46 97.34915\n",
            "Current Loss on iteration 47 96.39828\n",
            "Current Loss on iteration 48 95.51935\n",
            "Current Loss on iteration 49 94.706894\n",
            "Current Loss on iteration 50 93.955894\n",
            "Current Loss on iteration 51 93.26171\n",
            "Current Loss on iteration 52 92.62003\n",
            "Current Loss on iteration 53 92.02687\n",
            "Current Loss on iteration 54 91.47858\n",
            "Current Loss on iteration 55 90.97176\n",
            "Current Loss on iteration 56 90.50326\n",
            "Current Loss on iteration 57 90.07018\n",
            "Current Loss on iteration 58 89.66985\n",
            "Current Loss on iteration 59 89.299805\n",
            "Current Loss on iteration 60 88.957726\n",
            "Current Loss on iteration 61 88.6415\n",
            "Current Loss on iteration 62 88.349174\n",
            "Current Loss on iteration 63 88.07895\n",
            "Current Loss on iteration 64 87.82915\n",
            "Current Loss on iteration 65 87.59823\n",
            "Current Loss on iteration 66 87.38475\n",
            "Current Loss on iteration 67 87.187386\n",
            "Current Loss on iteration 68 87.004944\n",
            "Current Loss on iteration 69 86.83627\n",
            "Current Loss on iteration 70 86.68036\n",
            "Current Loss on iteration 71 86.5362\n",
            "Current Loss on iteration 72 86.40293\n",
            "Current Loss on iteration 73 86.27969\n",
            "Current Loss on iteration 74 86.16578\n",
            "Current Loss on iteration 75 86.060455\n",
            "Current Loss on iteration 76 85.96308\n",
            "Current Loss on iteration 77 85.87303\n",
            "Current Loss on iteration 78 85.78977\n",
            "Current Loss on iteration 79 85.71281\n",
            "Current Loss on iteration 80 85.6416\n",
            "Current Loss on iteration 81 85.57579\n",
            "Current Loss on iteration 82 85.514915\n",
            "Current Loss on iteration 83 85.45864\n",
            "Current Loss on iteration 84 85.406586\n",
            "Current Loss on iteration 85 85.35844\n",
            "Current Loss on iteration 86 85.31391\n",
            "Current Loss on iteration 87 85.27273\n",
            "Current Loss on iteration 88 85.234634\n",
            "Current Loss on iteration 89 85.199394\n",
            "Current Loss on iteration 90 85.16679\n",
            "Current Loss on iteration 91 85.13662\n",
            "Current Loss on iteration 92 85.108734\n",
            "Current Loss on iteration 93 85.08291\n",
            "Current Loss on iteration 94 85.05901\n",
            "Current Loss on iteration 95 85.03692\n",
            "Current Loss on iteration 96 85.01645\n",
            "Current Loss on iteration 97 84.99751\n",
            "Current Loss on iteration 98 84.97998\n",
            "Current Loss on iteration 99 84.96375\n"
          ],
          "name": "stdout"
        }
      ]
    },
    {
      "cell_type": "code",
      "metadata": {
        "id": "vT4TwFf_EpW7",
        "colab_type": "code",
        "outputId": "49aedee0-60fc-4b50-8071-593727df6d54",
        "colab": {
          "base_uri": "https://localhost:8080/",
          "height": 286
        }
      },
      "source": [
        "#Check Weights and Bias\n",
        "print('Weights: \\n', w.numpy())\n",
        "print('Bias: \\n', b.numpy())"
      ],
      "execution_count": 17,
      "outputs": [
        {
          "output_type": "stream",
          "text": [
            "Weights: \n",
            " [[6.27857521e-02]\n",
            " [2.58572161e-01]\n",
            " [2.17821732e-01]\n",
            " [1.46146421e-03]\n",
            " [1.13587305e-02]\n",
            " [1.31812572e-01]\n",
            " [1.38818812e+00]\n",
            " [8.23873580e-02]\n",
            " [1.76484972e-01]\n",
            " [7.99328279e+00]\n",
            " [3.82081836e-01]\n",
            " [7.41107655e+00]\n",
            " [2.53885090e-01]]\n",
            "Bias: \n",
            " [11.476417]\n"
          ],
          "name": "stdout"
        }
      ]
    },
    {
      "cell_type": "code",
      "metadata": {
        "id": "NTS2wTa4FEJA",
        "colab_type": "code",
        "outputId": "411c4e42-a0b8-4239-b638-c056b0338f79",
        "colab": {
          "base_uri": "https://localhost:8080/",
          "height": 67
        }
      },
      "source": [
        "train_x[0]"
      ],
      "execution_count": 18,
      "outputs": [
        {
          "output_type": "execute_result",
          "data": {
            "text/plain": [
              "array([0.0024119 , 0.        , 0.01592969, 0.        , 0.00105285,\n",
              "       0.01201967, 0.17945358, 0.00778265, 0.00782786, 0.60078794,\n",
              "       0.04109624, 0.776719  , 0.03663436], dtype=float32)"
            ]
          },
          "metadata": {
            "tags": []
          },
          "execution_count": 18
        }
      ]
    }
  ]
}